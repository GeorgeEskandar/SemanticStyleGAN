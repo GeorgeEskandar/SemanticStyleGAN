{
 "cells": [
  {
   "cell_type": "markdown",
   "metadata": {},
   "source": [
    "### Computer Model Distributions Notebook\n",
    "\n",
    " This notebook is used to generate a distribution plot for trained models."
   ]
  },
  {
   "cell_type": "code",
   "execution_count": 3,
   "metadata": {},
   "outputs": [],
   "source": [
    "import os\n",
    "import argparse\n",
    "import shutil\n",
    "import numpy as np\n",
    "import imageio\n",
    "import time\n",
    "import torch\n",
    "import sys\n",
    "\n",
    "\n",
    "sys.path.insert(0, \"../../SemanticStyleGAN\")\n",
    "from models import make_model\n",
    "from visualize.utils import generate\n",
    "import matplotlib.pyplot as plt"
   ]
  },
  {
   "cell_type": "code",
   "execution_count": 30,
   "metadata": {},
   "outputs": [],
   "source": [
    "\n",
    "\n",
    "## This function is different than the one in Control class in that takes image as 4 dimensional input\n",
    "def from_rgb_to_label(image, color_map):\n",
    "    color_map_sum = {}\n",
    "    for c in color_map:\n",
    "        color_map_sum[c] = sum(color_map[c])\n",
    "    image_tensor = torch.tensor(image).to(float)\n",
    "    image_summed = torch.sum(image_tensor, dim=3)\n",
    "    for index in color_map_sum:\n",
    "        image_summed=torch.where(image_summed==color_map_sum[index],torch.tensor(index),image_summed)\n",
    "    return image_summed"
   ]
  },
  {
   "cell_type": "code",
   "execution_count": 51,
   "metadata": {},
   "outputs": [],
   "source": [
    "def generate_model_dist_plot(ckpt,color_map,labels,samples=10,truncation_mean=10_000,batch=8):\n",
    "    device=\"cpu\"\n",
    "    ckpt = torch.load(ckpt, map_location=torch.device(\"cpu\"))\n",
    "    model = make_model(ckpt[\"args\"])\n",
    "    model.to(device)\n",
    "    model.eval()\n",
    "    model.load_state_dict(ckpt[\"g_ema\"])\n",
    "    mean_latent = model.style(\n",
    "        torch.randn(truncation_mean, model.style_dim, device=device)\n",
    "    ).mean(0)\n",
    "\n",
    "    print(\"Generating images ...\")\n",
    "    start_time = time.time()\n",
    "    with torch.no_grad():\n",
    "        styles = model.style(\n",
    "            torch.randn(samples, model.style_dim, device=device)\n",
    "        )\n",
    "        _, segs = generate(\n",
    "            model, styles, mean_latent=mean_latent, batch_size=batch\n",
    "        )\n",
    "    segs_converted = from_rgb_to_label(segs,color_map)\n",
    "    class_dist = torch.bincount(segs_converted.int().flatten())\n",
    "    class_dist = class_dist/class_dist.sum()## Sum\n",
    "    print(class_dist)\n",
    "    bar=plt.bar(color_map.keys(),class_dist)\n",
    "    plt.xticks(list(color_map.keys()),list(labels.values()),rotation='vertical')\n",
    "    for c in color_map:\n",
    "        color = color_map[c]\n",
    "        rgb = [x/255 for x in color]\n",
    "        bar[c].set_color(tuple(rgb))\n",
    "    return class_dist\n"
   ]
  },
  {
   "cell_type": "code",
   "execution_count": 52,
   "metadata": {},
   "outputs": [
    {
     "name": "stdout",
     "output_type": "stream",
     "text": [
      "Initializing model with arguments:\n",
      "{'aug': False,\n",
      " 'base_layers': 2,\n",
      " 'batch': 4,\n",
      " 'channel_multiplier': 2,\n",
      " 'checkpoint_dir': '/no_backups/g013/checkpoints/IDD_v5',\n",
      " 'ckpt': None,\n",
      " 'coarse_channel': 512,\n",
      " 'coarse_size': 64,\n",
      " 'd_reg_every': 16,\n",
      " 'dataset': '/no_backups/g013/data/IDD/lmdb_datasets/lmdb_v3',\n",
      " 'depth_layers': 6,\n",
      " 'detach_texture': False,\n",
      " 'distributed': True,\n",
      " 'g_reg_every': 4,\n",
      " 'inception': '/no_backups/g013/data/IDD/inception_models/inception_v3.pkl',\n",
      " 'iter': 600001,\n",
      " 'lambda_mask': 100.0,\n",
      " 'latent': 512,\n",
      " 'local_channel': 64,\n",
      " 'local_layers': 10,\n",
      " 'local_rank': 0,\n",
      " 'lr': 0.002,\n",
      " 'min_feat_size': 16,\n",
      " 'mixing': 0.3,\n",
      " 'n_gpu': 3,\n",
      " 'n_mlp': 8,\n",
      " 'n_sample': 16,\n",
      " 'num_workers': 8,\n",
      " 'path_batch_shrink': 2,\n",
      " 'path_regularize': 0.5,\n",
      " 'r1_img': 10,\n",
      " 'r1_seg': 1000,\n",
      " 'residual_refine': True,\n",
      " 'save_every': 5000,\n",
      " 'seg_dim': 13,\n",
      " 'size': 256,\n",
      " 'start_iter': 0,\n",
      " 'transparent_dims': (10, 12),\n",
      " 'viz_every': 2000}\n",
      "Generating images ...\n",
      "tensor([0.0000, 0.3928, 0.0108, 0.0097, 0.0073, 0.0050, 0.0411, 0.0380, 0.0302,\n",
      "        0.0452, 0.0528, 0.1727, 0.1945])\n"
     ]
    },
    {
     "data": {
      "image/png": "[encoded data removed]",
      "text/plain": [
       "<Figure size 432x288 with 1 Axes>"
      ]
     },
     "metadata": {
      "needs_background": "light"
     },
     "output_type": "display_data"
    }
   ],
   "source": [
    "ckpt= \"/no_backups/g013/checkpoints/IDD_v5/ckpt/025000.pt\"\n",
    "\n",
    "labels={\n",
    "0: \"void\",\n",
    "1: \"Drivable\" ,\n",
    "2: \"Non-Drivable\",\n",
    "3: \"Living-things\",\n",
    "4: \"2-wheeler\",\n",
    "5: \"autorickshaw\",\n",
    "6: \"Car\",\n",
    "7: \"Large-Vehicle\",\n",
    "8: \"Barrier\",\n",
    "9: \"Structures\",\n",
    "10: \"Construction\",\n",
    "11: \"Vegetation\",\n",
    "12: \"Sky\"\n",
    "}\n",
    "color_map = {\n",
    "    0: [0, 0, 0],  # Void\n",
    "    1: [128, 64, 128],  # Drivable\n",
    "    2: [244, 35, 232],  # Non-drivable\n",
    "    3: [220, 20, 60],  # living Things\n",
    "    4: [0, 0, 230],  # 2 wheeler\n",
    "    5: [190, 153, 153],  # Rickshaw\n",
    "    6: [0, 0, 142],  # Car\n",
    "    7: [0, 60, 100],  # Large Vehicles\n",
    "    8: [220, 220, 0],  # Barriers\n",
    "    9: [153, 153, 153],  # Structures\n",
    "    10: [70, 70, 70],  # Construction\n",
    "    11: [107, 142, 35],  # Vegitation\n",
    "    12: [70, 130, 180],  # Sky\n",
    "}\n",
    "class_dist = generate_model_dist_plot(ckpt,color_map,labels,samples=1_00)"
   ]
  }
 ],
 "metadata": {
  "kernelspec": {
   "display_name": "Python 3.9.12 ('myenv')",
   "language": "python",
   "name": "python3"
  },
  "language_info": {
   "codemirror_mode": {
    "name": "ipython",
    "version": 3
   },
   "file_extension": ".py",
   "mimetype": "text/x-python",
   "name": "python",
   "nbconvert_exporter": "python",
   "pygments_lexer": "ipython3",
   "version": "3.9.12"
  },
  "orig_nbformat": 4,
  "vscode": {
   "interpreter": {
    "hash": "c8daaeadef7a295f68d0e95189507333c5c96e909e217a26b6b4a4818e648299"
   }
  }
 },
 "nbformat": 4,
 "nbformat_minor": 2
}
