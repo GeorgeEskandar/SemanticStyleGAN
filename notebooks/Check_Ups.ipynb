{
 "cells": [
  {
   "cell_type": "code",
   "execution_count": 3,
   "metadata": {},
   "outputs": [],
   "source": [
    "import pandas as pd\n",
    "import numpy as np\n",
    "from pathlib import Path\n",
    "import json\n",
    "import os\n",
    "import collections\n",
    "import re \n",
    "from imageio import imread, imwrite\n",
    "from multiprocessing import Pool\n",
    "import matplotlib.pyplot as plt\n",
    "import cv2\n",
    "import gdown\n",
    "#import matplotlib.pyplot as plt"
   ]
  },
  {
   "cell_type": "markdown",
   "metadata": {},
   "source": [
    "## Check Converting Mask Code"
   ]
  },
  {
   "cell_type": "code",
   "execution_count": 3,
   "metadata": {},
   "outputs": [],
   "source": [
    "cut_down_mapping = {\n",
    "    0: 0,\n",
    "    1: 0,\n",
    "    2: 5,\n",
    "    3: 0,\n",
    "    4: 8,\n",
    "    5: 8,\n",
    "    6: 8,\n",
    "    7: 1,\n",
    "    8: 1,\n",
    "    9: 1,\n",
    "    10: 1,\n",
    "    11: 4,\n",
    "    12: 4,\n",
    "    13: 4,\n",
    "    14: 4,\n",
    "    15: 4,\n",
    "    16: 4,\n",
    "    17: 5,\n",
    "    18: 5,\n",
    "    19: 5,\n",
    "    20: 5,\n",
    "    21: 6,\n",
    "    22: 6,\n",
    "    23: 7,\n",
    "    24: 2,\n",
    "    25: 2,\n",
    "    26: 3,\n",
    "    27: 3,\n",
    "    28: 3,\n",
    "    29: 3,\n",
    "    30: 3,\n",
    "    31: 3,\n",
    "    32: 3,\n",
    "    33: 3,\n",
    "}\n",
    "labels = {\n",
    "    'unlabeled':  0 ,\n",
    "    'ego vehicle':  1 ,\n",
    "    'rectification border':  2 ,\n",
    "    'out of roi' :  3 ,\n",
    "    'static' :  4 ,\n",
    "    'dynamic' :  5 ,\n",
    "    'ground'    :  6 ,\n",
    "    'road'      :  7 ,\n",
    "    'sidewalk'  :  8 ,\n",
    "    'parking'   :  9 ,\n",
    "    'rail track': 10 ,\n",
    "    'building'  : 11 ,\n",
    "    'wall'      : 12 ,\n",
    "    'fence'     : 13 ,\n",
    "    'guard rail': 14 ,\n",
    "    'bridge'    : 15 ,\n",
    "    'tunnel'    : 16 ,\n",
    "    'pole'      : 17 ,\n",
    "    'polegroup' : 18 ,\n",
    "    'traffic light': 19 ,\n",
    "    'traffic sign'  : 20 ,\n",
    "    'vegetation'    : 21 ,\n",
    "    'terrain'       : 22 ,\n",
    "    'sky'           : 23 ,\n",
    "    'person'        : 24 ,\n",
    "    'rider'         : 25 ,\n",
    "    'car'           : 26 ,\n",
    "    'truck'         : 27 ,\n",
    "    'bus'           : 28 ,\n",
    "    'caravan'       : 29 ,\n",
    "    'trailer'       : 30 ,\n",
    "    'train'         : 31 ,\n",
    "    'motorcycle'    : 32 ,\n",
    "    'bicycle'       : 33 ,\n",
    "    'license plate' : -1 \n",
    "}\n",
    "\n",
    "\n",
    "color_map = {\n",
    "    0: [0, 0, 0],\n",
    "    1: [239, 234, 90],\n",
    "    2: [44, 105, 154],\n",
    "    3: [4, 139, 168],\n",
    "    4: [13, 179, 158],\n",
    "    5: [131, 227, 119],\n",
    "    6: [185, 231, 105],\n",
    "    7: [107, 137, 198],\n",
    "    8: [241, 196, 83],\n",
    "    9: [242, 158, 76],\n",
    "    10: [234, 114, 71],\n",
    "    11: [215, 95, 155],\n",
    "    12: [207, 113, 192],\n",
    "    13: [159, 89, 165],\n",
    "    14: [142, 82, 172],\n",
    "    15: [158, 115, 200], \n",
    "    16: [116, 95, 159],\n",
    "}"
   ]
  },
  {
   "cell_type": "code",
   "execution_count": 4,
   "metadata": {},
   "outputs": [],
   "source": [
    "\n",
    "#Reading an image, Simplifing it's labels to only 8 labels instead of 33 \n",
    "def simplify_image_labels(image,viewable=False):\n",
    "  new_image = np.zeros(image.shape)\n",
    "  for k,v in cut_down_mapping.items():\n",
    "    mask = image==k\n",
    "    new_image[mask]= (255/8)*v if viewable else v\n",
    "  return new_image\n",
    "\n"
   ]
  },
  {
   "cell_type": "code",
   "execution_count": 11,
   "metadata": {},
   "outputs": [
    {
     "name": "stderr",
     "output_type": "stream",
     "text": [
      "/tmp/ipykernel_2855808/410006855.py:5: DeprecationWarning: Starting with ImageIO v3 the behavior of this function will switch to that of iio.v3.imread. To keep the current behavior (and make this warning dissapear) use `import imageio.v2 as imageio` or call `imageio.v2.imread` directly.\n",
      "  image = imread(filepath)\n",
      "/tmp/ipykernel_2855808/410006855.py:6: DeprecationWarning: Starting with ImageIO v3 the behavior of this function will switch to that of iio.v3.imread. To keep the current behavior (and make this warning dissapear) use `import imageio.v2 as imageio` or call `imageio.v2.imread` directly.\n",
      "  image_og = imread(og_filepath)\n"
     ]
    },
    {
     "data": {
      "text/plain": [
       "True"
      ]
     },
     "execution_count": 11,
     "metadata": {},
     "output_type": "execute_result"
    }
   ],
   "source": [
    "#filepath=\"./aachen_000056_000019_gtFine_labelIds.png\"\n",
    "filepath=\"./berlin_000000_000019_gtFine_labelIds.png\"\n",
    "og_filepath= \"/no_backups/g013/data/gtFine_preprocessed/test/berlin/berlin_000000_000019_gtFine_labelIds.png\"\n",
    "output_path = \"./output.png\"\n",
    "image = imread(filepath)\n",
    "image_og = imread(og_filepath)\n",
    "preprocessed_image=simplify_image_labels(image,False)\n",
    "cv2.imwrite(output_path,preprocessed_image)"
   ]
  },
  {
   "cell_type": "code",
   "execution_count": 12,
   "metadata": {},
   "outputs": [
    {
     "ename": "KeyboardInterrupt",
     "evalue": "",
     "output_type": "error",
     "traceback": [
      "\u001b[0;31m---------------------------------------------------------------------------\u001b[0m",
      "\u001b[0;31mKeyboardInterrupt\u001b[0m                         Traceback (most recent call last)",
      "\u001b[1;32m/usrhomes/g013/PlayGround/Check_Ups.ipynb Cell 8\u001b[0m in \u001b[0;36m<cell line: 1>\u001b[0;34m()\u001b[0m\n\u001b[1;32m      <a href='vscode-notebook-cell://ssh-remote%2Blogin1/usrhomes/g013/PlayGround/Check_Ups.ipynb#ch0000007vscode-remote?line=3'>4</a>\u001b[0m value2 \u001b[39m=\u001b[39m preprocessed_image[index1][index2]\n\u001b[1;32m      <a href='vscode-notebook-cell://ssh-remote%2Blogin1/usrhomes/g013/PlayGround/Check_Ups.ipynb#ch0000007vscode-remote?line=4'>5</a>\u001b[0m value_og \u001b[39m=\u001b[39m image_og[index1][index2]\n\u001b[0;32m----> <a href='vscode-notebook-cell://ssh-remote%2Blogin1/usrhomes/g013/PlayGround/Check_Ups.ipynb#ch0000007vscode-remote?line=5'>6</a>\u001b[0m \u001b[39mif\u001b[39;00m value2\u001b[39m!=\u001b[39mconverted_value \u001b[39mor\u001b[39;00m value_og \u001b[39m!=\u001b[39;49mvalue2:\n\u001b[1;32m      <a href='vscode-notebook-cell://ssh-remote%2Blogin1/usrhomes/g013/PlayGround/Check_Ups.ipynb#ch0000007vscode-remote?line=6'>7</a>\u001b[0m     \u001b[39mprint\u001b[39m(\u001b[39m\"\u001b[39m\u001b[39mThere is a pixel that has a wrong value\u001b[39m\u001b[39m\"\u001b[39m)\n",
      "\u001b[0;31mKeyboardInterrupt\u001b[0m: "
     ]
    }
   ],
   "source": [
    "for index1, arr in enumerate(image):\n",
    "    for index2,value in enumerate(arr):\n",
    "        converted_value= cut_down_mapping[value]\n",
    "        value2 = preprocessed_image[index1][index2]\n",
    "        value_og = image_og[index1][index2]\n",
    "        if value2!=converted_value or value_og !=value2:\n",
    "            print(\"There is a pixel that has a wrong value\")"
   ]
  },
  {
   "cell_type": "code",
   "execution_count": 203,
   "metadata": {},
   "outputs": [
    {
     "name": "stderr",
     "output_type": "stream",
     "text": [
      "/tmp/ipykernel_2356131/2657160487.py:1: DeprecationWarning: Starting with ImageIO v3 the behavior of this function will switch to that of iio.v3.imread. To keep the current behavior (and make this warning dissapear) use `import imageio.v2 as imageio` or call `imageio.v2.imread` directly.\n",
      "  image_res = imread(output_path)\n"
     ]
    }
   ],
   "source": [
    "image_res = imread(output_path)"
   ]
  },
  {
   "cell_type": "code",
   "execution_count": 16,
   "metadata": {},
   "outputs": [
    {
     "name": "stderr",
     "output_type": "stream",
     "text": [
      "/tmp/ipykernel_2855808/3274728154.py:3: DeprecationWarning: Starting with ImageIO v3 the behavior of this function will switch to that of iio.v3.imread. To keep the current behavior (and make this warning dissapear) use `import imageio.v2 as imageio` or call `imageio.v2.imread` directly.\n",
      "  test_image = imread(test_path_2)\n"
     ]
    },
    {
     "data": {
      "text/plain": [
       "{0, 1, 2, 3, 6, 8, 9, 11, 15}"
      ]
     },
     "execution_count": 16,
     "metadata": {},
     "output_type": "execute_result"
    }
   ],
   "source": [
    "#test_path=\"/no_backups/g013/data/gtFine_preprocessed/train/ulm/ulm_000063_000019_gtFine_labelIds.png\"\n",
    "test_path_2 =  \"/no_backups/g013/data/v_2/train/aachen/aachen_000109_000019_gtFine_labelIds.png\"\n",
    "test_image = imread(test_path_2)\n",
    "arr_unique =[]\n",
    "for i in test_image:\n",
    "    for j in i :\n",
    "        arr_unique.append(j)\n",
    "set(arr_unique)\n"
   ]
  },
  {
   "cell_type": "markdown",
   "metadata": {},
   "source": [
    "## Downloading Extra Data from google drive"
   ]
  },
  {
   "cell_type": "code",
   "execution_count": 2,
   "metadata": {},
   "outputs": [
    {
     "name": "stderr",
     "output_type": "stream",
     "text": [
      "Downloading...\n",
      "From: https://drive.google.com/u/0/uc?id=1DtPo-WP-hjaOwsbj6ZxTtOo_7R_4TKRG\n",
      "To: /no_backups/g013/data/extra_data/refinement_final_v0.zip\n",
      "100%|██████████| 5.19G/5.19G [01:15<00:00, 68.4MB/s]\n"
     ]
    },
    {
     "data": {
      "text/plain": [
       "'/no_backups/g013/data/extra_data/refinement_final_v0.zip'"
      ]
     },
     "execution_count": 2,
     "metadata": {},
     "output_type": "execute_result"
    }
   ],
   "source": [
    "url = \"https://drive.google.com/u/0/uc?id=1DtPo-WP-hjaOwsbj6ZxTtOo_7R_4TKRG\"\n",
    "PATH_CHECKPOINT = '/no_backups/g013/data/extra_data/refinement_final_v0.zip'\n",
    "gdown.download(url, PATH_CHECKPOINT, quiet=False)"
   ]
  },
  {
   "cell_type": "code",
   "execution_count": null,
   "metadata": {},
   "outputs": [],
   "source": []
  }
 ],
 "metadata": {
  "kernelspec": {
   "display_name": "Python 3.9.12 ('myenv': conda)",
   "language": "python",
   "name": "python3"
  },
  "language_info": {
   "codemirror_mode": {
    "name": "ipython",
    "version": 3
   },
   "file_extension": ".py",
   "mimetype": "text/x-python",
   "name": "python",
   "nbconvert_exporter": "python",
   "pygments_lexer": "ipython3",
   "version": "3.9.12"
  },
  "orig_nbformat": 4,
  "vscode": {
   "interpreter": {
    "hash": "c8daaeadef7a295f68d0e95189507333c5c96e909e217a26b6b4a4818e648299"
   }
  }
 },
 "nbformat": 4,
 "nbformat_minor": 2
}
