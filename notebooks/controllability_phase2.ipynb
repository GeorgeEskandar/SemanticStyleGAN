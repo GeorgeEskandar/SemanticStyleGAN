{
 "cells": [
  {
   "cell_type": "markdown",
   "metadata": {},
   "source": [
    "#### Imports"
   ]
  },
  {
   "cell_type": "code",
   "execution_count": null,
   "metadata": {},
   "outputs": [],
   "source": [
    "from numpy import array\n",
    "from numpy import mean\n",
    "from numpy import cov\n",
    "from numpy.linalg import eig\n",
    "import os\n",
    "import argparse\n",
    "import shutil\n",
    "import numpy as np\n",
    "import imageio\n",
    "import pandas as pd\n",
    "import torch\n",
    "from pathlib import Path\n",
    "\n",
    "import sys\n",
    "import matplotlib.pyplot as plt\n",
    "sys.path.insert(0, \"../../SemanticStyleGAN\")\n",
    "from models import make_model\n",
    "from visualize.utils import generate, cubic_spline_interpolate\n",
    "from utils.control import Control"
   ]
  },
  {
   "cell_type": "markdown",
   "metadata": {},
   "source": [
    "#### Loading Model"
   ]
  },
  {
   "cell_type": "code",
   "execution_count": null,
   "metadata": {},
   "outputs": [],
   "source": [
    "ckpt= \"/no_backups/g013/checkpoints/SSG_v3.13/ckpt/140000.pt\"\n",
    "device=\"cpu\"\n",
    "control = Control(ckpt,device)"
   ]
  },
  {
   "cell_type": "markdown",
   "metadata": {},
   "source": [
    "#### Load  images"
   ]
  },
  {
   "cell_type": "code",
   "execution_count": null,
   "metadata": {},
   "outputs": [],
   "source": [
    "latent1= \"../results/saved_samples/first_latent.npy\"\n",
    "latent2= \"../results/saved_samples/second_latent.npy\"\n",
    "latent3= \"../results/saved_samples/third_latent.npy\"\n",
    "latent4=\"../results/saved_samples/fourth_latent.npy\"\n",
    "latent5=\"../results/saved_samples/fifth_latent.npy\"\n",
    "latent6=\"../results/saved_samples/sixth_latent.npy\"\n",
    "latent7=\"../results/saved_samples/seventh_latent.npy\"\n",
    "styles1 = torch.tensor(np.load(latent1), device=device)\n",
    "styles2 = torch.tensor(np.load(latent2), device=device)\n",
    "styles3 = torch.tensor(np.load(latent3), device=device)\n",
    "styles4 = torch.tensor(np.load(latent4), device=device)\n",
    "styles5 = torch.tensor(np.load(latent5), device=device)\n",
    "styles6 = torch.tensor(np.load(latent6), device=device)\n",
    "styles7 = torch.tensor(np.load(latent7), device=device)\n",
    "\n",
    "styles1 = styles1.unsqueeze(1).repeat(1, control.model.n_latent, 1)\n",
    "styles2 = styles2.unsqueeze(1).repeat(1, control.model.n_latent, 1)\n",
    "styles3 = styles3.unsqueeze(1).repeat(1, control.model.n_latent, 1)\n",
    "styles4 = styles4.unsqueeze(1).repeat(1, control.model.n_latent, 1)\n",
    "styles5 = styles5.unsqueeze(1).repeat(1, control.model.n_latent, 1)\n",
    "styles6 = styles6.unsqueeze(1).repeat(1, control.model.n_latent, 1)\n",
    "styles7 = styles7.unsqueeze(1).repeat(1, control.model.n_latent, 1)"
   ]
  },
  {
   "cell_type": "markdown",
   "metadata": {},
   "source": [
    "#### Compare 2 PCA methods"
   ]
  },
  {
   "cell_type": "code",
   "execution_count": null,
   "metadata": {},
   "outputs": [],
   "source": [
    "# Goal is w0 = w + Vx\n",
    "def calculate_pca_1(model,samples,n_components=10):\n",
    "    '''\n",
    "    Calculates PCA and return the V of shape n_components X model.style_dim    \n",
    "    '''\n",
    "    pca_res = torch.pca_lowrank(samples,q=n_components)\n",
    "    V = pca_res[2].permute(1,0)\n",
    "    print(f\"Shape of output V from PCA is: {V.shape} \")\n",
    "    return V"
   ]
  },
  {
   "cell_type": "code",
   "execution_count": null,
   "metadata": {},
   "outputs": [],
   "source": [
    "def calculate_pca_2(samples,selected=10):\n",
    "    samples_cop = samples.cpu().detach().numpy()\n",
    "    M = mean(samples_cop)\n",
    "    C = samples_cop-M\n",
    "    V_2=cov(C.T)\n",
    "    values, vectors = eig(V_2)\n",
    "    return values[:selected],vectors[:selected]"
   ]
  },
  {
   "cell_type": "code",
   "execution_count": null,
   "metadata": {},
   "outputs": [],
   "source": [
    "styles = control.model.style(\n",
    "        torch.randn(50000, control.model.style_dim, device=\"cpu\")\n",
    "    )\n",
    "\n",
    "res_1 = calculate_pca_1(control.model,styles)\n",
    "res_2 = calculate_pca_2(styles,selected=513)\n",
    "vectors = res_2[1]"
   ]
  },
  {
   "cell_type": "code",
   "execution_count": null,
   "metadata": {},
   "outputs": [],
   "source": [
    "vectors = torch.tensor(vectors)\n",
    "torch.save(vectors,\"data/principal_components_2.pt\")"
   ]
  },
  {
   "cell_type": "markdown",
   "metadata": {},
   "source": [
    "#### Playing with Fourier Features"
   ]
  },
  {
   "cell_type": "code",
   "execution_count": null,
   "metadata": {},
   "outputs": [],
   "source": [
    "## Playing with coords.\n",
    "#edit_image(latent_index=28,class_index=13,change_factor=-0.7,styles=styles1)\n",
    "def make_coords(b, h, w, device,factor=0):\n",
    "    start = -1 - factor\n",
    "    end = 1 + factor\n",
    "    x_channel = (\n",
    "        torch.linspace(start, end, w, device=device).view(1, 1, 1, -1).repeat(b, 1, w, 1)\n",
    "    )\n",
    "    y_channel = (\n",
    "        torch.linspace(start, end, h, device=device).view(1, 1, -1, 1).repeat(b, 1, 1, h)\n",
    "    )\n",
    "    return torch.cat((x_channel, y_channel), dim=1)\n",
    "coarse_size = 64\n",
    "latent=16\n",
    "class_index = 13\n",
    "## Gradual addition of a small multiplicator to the coordination values of ff\n",
    "images=[]\n",
    "segs=[]\n",
    "# for i in np.arange(-0.4,0.4,0.01):\n",
    "#     coords = make_coords(\n",
    "#         1, coarse_size, coarse_size, \"cpu\"\n",
    "#     )+i\n",
    "#     coords = [coords.clone() for _ in range(latent)]\n",
    "#     image,seg=generate_and_plot_image(styles1,class_index,coords,plot=False)\n",
    "#     images.append(image[0])\n",
    "#     segs.append(seg[0])\n",
    "\n",
    "## For a specific class ( Car )\n",
    "images=[]\n",
    "segs=[]\n",
    "for i in np.arange(-0.5,1.5,0.01):\n",
    "    coords = make_coords(\n",
    "        1, coarse_size, coarse_size, \"cpu\"\n",
    "    )\n",
    "    coords = [coords.clone() for _ in range(latent)]\n",
    "    #Scaling 0:horizontally and 1:vertically\n",
    "    coords[class_index][:,1]+=i\n",
    "\n",
    "    ##Zooming in on a class ,smaller value zoom in , large value zoom out\n",
    "    # coords[class_index]=make_coords(\n",
    "    #     1, coarse_size, coarse_size, \"cpu\",i\n",
    "    # )\n",
    "    image,seg=control.generate_and_plot_image(styles2,class_index,coords,plot=True)\n",
    "    images.append(image[0])\n",
    "    segs.append(seg[0])"
   ]
  },
  {
   "cell_type": "code",
   "execution_count": null,
   "metadata": {},
   "outputs": [],
   "source": [
    "control.images_to_video(images,segs,\"./data/scaling_vertically_car_class_2.mp4\")"
   ]
  },
  {
   "cell_type": "markdown",
   "metadata": {},
   "source": [
    "#### Controllability Graph"
   ]
  },
  {
   "cell_type": "code",
   "execution_count": null,
   "metadata": {},
   "outputs": [],
   "source": [
    "def extract_class_statistics_addition(style,class_index,latent_index,plot=False):\n",
    "    distribution=[]\n",
    "    factor=[]\n",
    "    original_dist = control.edit_image(latent_index,class_index,0,style,plot=plot,get_image=False,add_mean_latent=False)\n",
    "    for change_factor in np.arange(-1,1,0.1):\n",
    "        dist=control.edit_image(latent_index,class_index,change_factor,style,plot=plot,get_image=False,add_mean_latent=False)\n",
    "        dist = float(dist)\n",
    "        factor.append(round(change_factor,3))\n",
    "        distribution.append(round(dist,3))\n",
    "    df = pd.DataFrame({\"addition_factor\":factor,\"dist\":distribution})\n",
    "    #df = df[df[\"dist\"].between(0.5,35)]\n",
    "    return df\n",
    " "
   ]
  },
  {
   "cell_type": "code",
   "execution_count": null,
   "metadata": {},
   "outputs": [],
   "source": [
    "def extract_class_statistics_pca(style,class_index,latent_index,V):\n",
    "    distribution=[]\n",
    "    factor=[]\n",
    "    #original_dist = edit_image(latent_index,class_index,0,style,plot=False,get_image=False,add_mean_latent=False)\n",
    "    for change_factor in np.arange(-40,30,1):\n",
    "        dist=control.edit_image_principal_component(latent_index,class_index,change_factor,style,V,whole_image=False,plot=False,get_image=False)\n",
    "        dist = float(dist)\n",
    "        factor.append(round(change_factor,3))\n",
    "        distribution.append(round(dist,3))\n",
    "    df = pd.DataFrame({\"addition_factor\":factor,\"dist\":distribution})\n",
    "    df = df[df[\"dist\"].between(0.5,35)]\n",
    "    return df\n",
    " "
   ]
  },
  {
   "cell_type": "code",
   "execution_count": null,
   "metadata": {},
   "outputs": [],
   "source": [
    "def plot_class_dist_change(list_df,save_dir=None,pca=False):\n",
    "    '''\n",
    "    Function that plots the change in the distribution of the classes. If the input is a pca version 2 result\n",
    "    The range of the xaxis would change\n",
    "    '''\n",
    "    fig,ax = plt.subplots()\n",
    "    for i,df in enumerate(list_df):\n",
    "        ax.plot(df[\"addition_factor\"],df[\"dist\"],label=i)\n",
    "    steps=10\n",
    "    y_range = np.arange(0,df[\"dist\"].max(),(df[\"dist\"].max()/steps))\n",
    "    ax.plot(np.zeros(10),y_range,linestyle=\"dashed\")\n",
    "    ax.set_yticks(y_range)\n",
    "    ax.set_xticks(np.arange(-1,1,0.1))#For Addition\n",
    "    if pca:\n",
    "        ax.set_xticks(np.arange(-40,30,5))#For PCA 2\n",
    "    ax.set_xlabel(\"addition_factor\")\n",
    "    ax.set_ylabel(\"distribution #\")\n",
    "    if save_dir is not None:\n",
    "        plt.savefig(save_dir)\n",
    "    plt.show()  "
   ]
  },
  {
   "cell_type": "code",
   "execution_count": 18,
   "metadata": {},
   "outputs": [
    {
     "data": {
      "image/png": "[encoded data removed]",
      "text/plain": [
       "<Figure size 432x288 with 1 Axes>"
      ]
     },
     "metadata": {
      "needs_background": "light"
     },
     "output_type": "display_data"
    }
   ],
   "source": [
    "##Exploring the effect of addition direction on 3 styles on a certain class\n",
    "\n",
    "latent_list = [styles1,styles2,styles3,styles4,styles5]\n",
    "class_index = 1##Road\n",
    "class_index = 2##SideWalk\n",
    "class_index = 3##Building\n",
    "class_index = 4##Wall\n",
    "class_index = 9##Vegitation\n",
    "class_index = 10##Sky\n",
    "class_index = 11##Person\n",
    "# class_index = 13##Car\n",
    "latent_index=class_index*2+2\n",
    "\n",
    "list_df=[]\n",
    "for latent in latent_list:\n",
    "    class_statistics_df=extract_class_statistics_addition(latent,class_index,latent_index)\n",
    "    list_df.append(class_statistics_df)\n",
    "plot_class_dist_change(list_df,\"./data/classes_dist_change/distribution_plot_person.png\")"
   ]
  },
  {
   "cell_type": "code",
   "execution_count": null,
   "metadata": {},
   "outputs": [],
   "source": [
    "## Get several latent vectors and calculate the distribution change for all of them when the addition \n",
    "## direction is explored\n",
    "\n",
    "latent_dir = \"/usrhomes/g013/SemanticStyleGAN/results/controlled_samples\"\n",
    "save_dir= \"./classes_dist_change\"\n",
    "all_latent = Path(latent_dir).glob('*.npy')\n",
    "\n",
    "class_index = 13\n",
    "latent_index=28\n",
    "list_df=[]\n",
    "styles_list=[]\n",
    "for latent in all_latent:\n",
    "    style = torch.tensor(np.load(latent), device=device)\n",
    "    style = style.unsqueeze(1).repeat(1, control.model.n_latent, 1)\n",
    "    styles_list.append(style)\n",
    "    if len(styles_list)>20:\n",
    "        break\n",
    "\n",
    "for latent in styles_list:\n",
    "    class_statistics_df=extract_class_statistics_addition(latent,class_index,latent_index)\n",
    "    list_df.append(class_statistics_df)\n",
    "plot_class_dist_change(list_df,save_dir=save_dir+\"/class_dist_\")\n",
    "    "
   ]
  },
  {
   "cell_type": "markdown",
   "metadata": {},
   "source": [
    "#### Graph for PCA"
   ]
  },
  {
   "cell_type": "code",
   "execution_count": null,
   "metadata": {},
   "outputs": [],
   "source": [
    "##Exploring the effect of PCA directions on 3 styles on a certain class\n",
    "\n",
    "V = torch.load(\"data/principal_components/principal_components_2.pt\") #Manual output\n",
    "latent_list = [styles1,styles2,styles3]\n",
    "class_index = 13\n",
    "latent_index=28\n",
    "list_df=[]\n",
    "for i,latent in enumerate(latent_list):\n",
    "    print(f\"Currently exploring latent {i}\")\n",
    "    class_statistics_df=extract_class_statistics_pca(latent,class_index,latent_index,[V[1],V[3]])\n",
    "    list_df.append(class_statistics_df)\n",
    "    "
   ]
  },
  {
   "cell_type": "code",
   "execution_count": null,
   "metadata": {},
   "outputs": [],
   "source": [
    "## Get several latent vectors and calculate the distribution change for all of them when the addition \n",
    "## direction is explored\n",
    "\n",
    "latent_dir = \"/usrhomes/g013/SemanticStyleGAN/results/controlled_samples\"\n",
    "all_latent = Path(latent_dir).glob('*.npy')\n",
    "V = torch.load(\"data/principal_components_2.pt\") #Manual output\n",
    "class_index = 13\n",
    "latent_index=28\n",
    "list_df=[]\n",
    "styles_list=[]\n",
    "for latent in all_latent:\n",
    "    style = torch.tensor(np.load(latent), device=device)\n",
    "    style = style.unsqueeze(1).repeat(1, control.model.n_latent, 1)\n",
    "    styles_list.append(style)\n",
    "    if len(styles_list)>20:\n",
    "        break\n",
    "\n",
    "for latent in styles_list:\n",
    "    class_statistics_df=extract_class_statistics_pca(latent,class_index,latent_index,[V[1],V[3]])\n",
    "    list_df.append(class_statistics_df)\n",
    "plot_class_dist_change(list_df,pca=True)\n",
    "    "
   ]
  },
  {
   "cell_type": "markdown",
   "metadata": {},
   "source": [
    "#### Interpolating Between 2 Images"
   ]
  },
  {
   "cell_type": "code",
   "execution_count": null,
   "metadata": {},
   "outputs": [],
   "source": [
    "np.linspace(1,6,3)"
   ]
  },
  {
   "cell_type": "code",
   "execution_count": null,
   "metadata": {},
   "outputs": [],
   "source": [
    "def interpolate_2_images(style1,style2,steps,latent_index=None,base_style=None):\n",
    "    images=[]\n",
    "    segs=[]\n",
    "    steps = np.linspace(0,1,steps)\n",
    "    if base_style is not None:\n",
    "        new_style=base_style.clone().detach()\n",
    "    else:\n",
    "        new_style = style1.clone().detach()\n",
    "    for ratio in steps:\n",
    "        if latent_index is not None:\n",
    "            new_style[0,latent_index] =  (1-ratio)*style1[0,latent_index] + ratio*style2[0,latent_index]\n",
    "            new_style[0,latent_index+1] =  (1-ratio)*style1[0,latent_index+1] + ratio*style2[0,latent_index+1]\n",
    "        else:\n",
    "              new_style = (1-ratio)*style1 + ratio*style2\n",
    "        image,seg=control.generate_and_plot_image(new_style,class_index,plot=False)\n",
    "        images.append(image[0])\n",
    "        segs.append(seg[0])\n",
    "    return images,segs"
   ]
  },
  {
   "cell_type": "code",
   "execution_count": null,
   "metadata": {},
   "outputs": [],
   "source": [
    "def interpolate_video(styles,steps,save_dir,latent_index=None):\n",
    "    images=[]\n",
    "    segs=[]\n",
    "    for i in range(1,len(styles)):\n",
    "        print(f\"Interpolating between image {i-1} and {i}\")\n",
    "        style1 = styles[i-1]\n",
    "        style2 = styles[i]\n",
    "        images_res,segs_res=interpolate_2_images(style1,style2,steps,latent_index,base_style=styles[1])\n",
    "        images = images + images_res\n",
    "        segs = segs + segs_res\n",
    "    control.images_to_video(images,segs,save_dir)\n"
   ]
  },
  {
   "cell_type": "code",
   "execution_count": null,
   "metadata": {},
   "outputs": [],
   "source": [
    "#interpolate_video([styles1,styles2,styles3,styles4,styles5,styles6,styles7],40,\"./data/interp_videos/interpolate_several_images.mp4\")\n",
    "interpolate_video([styles1,styles2,styles3,styles4,styles5,styles6,styles7],40,\"./data/interp_videos/interpolate_several_images_only_car_2_2.mp4\",latent_index=28)\n",
    "# interpolate_video([styles1,styles2,styles3,styles4,styles5,styles6,styles7],40,\"./data/interp_videos/interpolate_several_images_only_road.mp4\",latent_index=4)\n",
    "# interpolate_video([styles1,styles2,styles3,styles4,styles5,styles6,styles7],40,\"./data/interp_videos/interpolate_several_images_only_vegi.mp4\",latent_index=20)"
   ]
  },
  {
   "cell_type": "code",
   "execution_count": null,
   "metadata": {},
   "outputs": [],
   "source": [
    "interpolate_2_images(styles1,styles2,20)"
   ]
  },
  {
   "cell_type": "markdown",
   "metadata": {},
   "source": [
    "Discovery: When feeding a shape latent vec of a class of an image to another image, the result is not identically the same. The distribution itself is the same but there are differences due to the other latent vectors of other classes. This could be used to enforce a distribution of another class/shape of another class."
   ]
  },
  {
   "cell_type": "code",
   "execution_count": null,
   "metadata": {},
   "outputs": [],
   "source": [
    "#### Generating an Image of the interpolation\n",
    "def get_interpolation_image_1(styles,steps,save_dir,latent_index=None):\n",
    "    '''\n",
    "    get all interpolation images between the first image in styles and all the other images and produce \n",
    "    1 image as a result\n",
    "    '''\n",
    "    results = None\n",
    "    style1 = styles[0]\n",
    "    for i in range(1,len(styles)):\n",
    "        print(f\"Interpolating between image {i-1} and {i}\")\n",
    "        style2 = styles[i]\n",
    "        images_res,segs_res=interpolate_2_images(style1,style2,steps,latent_index=latent_index)\n",
    "        rows = [np.concatenate((img, seg), 0) for (img, seg) in zip(images_res, segs_res)]\n",
    "        rows = np.concatenate(rows,1)\n",
    "        results =  rows if results is None else np.concatenate((results,rows),0)\n",
    "       \n",
    "    imageio.imwrite(save_dir,results)\n",
    "\n",
    "\n",
    "def get_interpolation_image_2(style1,style2,steps,save_dir,latent_indexes):\n",
    "    '''\n",
    "    get all interpolation images between 2 images on several latent classes\n",
    "    '''\n",
    "    results = None\n",
    "    for latent_index in latent_indexes:\n",
    "        print(f\"Interpolating latent index {latent_index}\")\n",
    "        images_res,segs_res=interpolate_2_images(style1,style2,steps,latent_index=latent_index)\n",
    "        rows = [np.concatenate((img, seg), 0) for (img, seg) in zip(images_res, segs_res)]\n",
    "        rows = np.concatenate(rows,1)\n",
    "        results =  rows if results is None else np.concatenate((results,rows),0)\n",
    "       \n",
    "    imageio.imwrite(save_dir,results)\n"
   ]
  },
  {
   "cell_type": "code",
   "execution_count": null,
   "metadata": {},
   "outputs": [],
   "source": [
    "frames = [np.concatenate((img, seg,img,seg), 0) for (img, seg) in zip(images, segs)]\n",
    "imageio.imwrite(f\"./data/test.png\",frames[0])\n",
    "#imageio.mimwrite(f\"./data/test.mp4\", frames, fps=20)\n"
   ]
  },
  {
   "cell_type": "code",
   "execution_count": null,
   "metadata": {},
   "outputs": [],
   "source": [
    "get_interpolation_image_1([styles3,styles2,styles1,styles4,styles5,styles6],10,\"./data/interp_videos/interpolate_image3_and_others_only_car.png\",28)\n",
    "latent_indexes=[4,6,8,20,22,28]\n",
    "##road shape / sidewalk shape / building shape / vegitation shape/ sky shape/ car shape\n",
    "#get_interpolation_image_2(styles1,styles3,10,\"./data/interp_videos/interpolate_image1_and_image3_latents.png\",latent_indexes)"
   ]
  },
  {
   "cell_type": "code",
   "execution_count": null,
   "metadata": {},
   "outputs": [],
   "source": []
  },
  {
   "cell_type": "code",
   "execution_count": null,
   "metadata": {},
   "outputs": [],
   "source": []
  }
 ],
 "metadata": {
  "kernelspec": {
   "display_name": "Python 3.9.12 ('myenv': conda)",
   "language": "python",
   "name": "python3"
  },
  "language_info": {
   "codemirror_mode": {
    "name": "ipython",
    "version": 3
   },
   "file_extension": ".py",
   "mimetype": "text/x-python",
   "name": "python",
   "nbconvert_exporter": "python",
   "pygments_lexer": "ipython3",
   "version": "3.9.12"
  },
  "orig_nbformat": 4,
  "vscode": {
   "interpreter": {
    "hash": "c8daaeadef7a295f68d0e95189507333c5c96e909e217a26b6b4a4818e648299"
   }
  }
 },
 "nbformat": 4,
 "nbformat_minor": 2
}
