{
 "cells": [
  {
   "cell_type": "markdown",
   "metadata": {},
   "source": [
    "#### Imports"
   ]
  },
  {
   "cell_type": "code",
   "execution_count": 2,
   "metadata": {},
   "outputs": [
    {
     "ename": "OSError",
     "evalue": "CUDA_HOME environment variable is not set. Please set it to your CUDA install root.",
     "output_type": "error",
     "traceback": [
      "\u001b[0;31m---------------------------------------------------------------------------\u001b[0m",
      "\u001b[0;31mOSError\u001b[0m                                   Traceback (most recent call last)",
      "\u001b[1;32m/usrhomes/g013/SemanticStyleGAN/notebooks/Code_Dump.ipynb Cell 2\u001b[0m in \u001b[0;36m<cell line: 10>\u001b[0;34m()\u001b[0m\n\u001b[1;32m      <a href='vscode-notebook-cell://ssh-remote%2Blogin1/usrhomes/g013/SemanticStyleGAN/notebooks/Code_Dump.ipynb#X10sdnNjb2RlLXJlbW90ZQ%3D%3D?line=6'>7</a>\u001b[0m \u001b[39mimport\u001b[39;00m \u001b[39msys\u001b[39;00m\n\u001b[1;32m      <a href='vscode-notebook-cell://ssh-remote%2Blogin1/usrhomes/g013/SemanticStyleGAN/notebooks/Code_Dump.ipynb#X10sdnNjb2RlLXJlbW90ZQ%3D%3D?line=8'>9</a>\u001b[0m sys\u001b[39m.\u001b[39mpath\u001b[39m.\u001b[39minsert(\u001b[39m0\u001b[39m, \u001b[39m\"\u001b[39m\u001b[39m../../SemanticStyleGAN\u001b[39m\u001b[39m\"\u001b[39m)\n\u001b[0;32m---> <a href='vscode-notebook-cell://ssh-remote%2Blogin1/usrhomes/g013/SemanticStyleGAN/notebooks/Code_Dump.ipynb#X10sdnNjb2RlLXJlbW90ZQ%3D%3D?line=9'>10</a>\u001b[0m \u001b[39mfrom\u001b[39;00m \u001b[39mmodels\u001b[39;00m \u001b[39mimport\u001b[39;00m make_model\n\u001b[1;32m     <a href='vscode-notebook-cell://ssh-remote%2Blogin1/usrhomes/g013/SemanticStyleGAN/notebooks/Code_Dump.ipynb#X10sdnNjb2RlLXJlbW90ZQ%3D%3D?line=10'>11</a>\u001b[0m \u001b[39mfrom\u001b[39;00m \u001b[39mvisualize\u001b[39;00m\u001b[39m.\u001b[39;00m\u001b[39mutils\u001b[39;00m \u001b[39mimport\u001b[39;00m generate, cubic_spline_interpolate\n",
      "File \u001b[0;32m/misc/usrhomes/g013/SemanticStyleGAN/notebooks/../../SemanticStyleGAN/models/__init__.py:19\u001b[0m, in \u001b[0;36m<module>\u001b[0;34m\u001b[0m\n\u001b[1;32m      1\u001b[0m \u001b[39m# Copyright (C) 2022 ByteDance Inc.\u001b[39;00m\n\u001b[1;32m      2\u001b[0m \u001b[39m# All rights reserved.\u001b[39;00m\n\u001b[1;32m      3\u001b[0m \u001b[39m# Licensed under the CC BY-NC-SA 4.0 license (https://creativecommons.org/licenses/by-nc-sa/4.0/legalcode).\u001b[39;00m\n\u001b[0;32m   (...)\u001b[0m\n\u001b[1;32m     15\u001b[0m \u001b[39m# WHETHER IN AN ACTION OF CONTRACT, NEGLIGENCE OR OTHER TORTIOUS ACTION, ARISING\u001b[39;00m\n\u001b[1;32m     16\u001b[0m \u001b[39m# OUT OF OR IN CONNECTION WITH THE USE OR PERFORMANCE OF THIS SOFTWARE.\u001b[39;00m\n\u001b[1;32m     18\u001b[0m \u001b[39mimport\u001b[39;00m \u001b[39mpprint\u001b[39;00m\n\u001b[0;32m---> 19\u001b[0m \u001b[39mfrom\u001b[39;00m \u001b[39m.\u001b[39;00m\u001b[39msemantic_stylegan\u001b[39;00m \u001b[39mimport\u001b[39;00m SemanticGenerator, DualBranchDiscriminator\n\u001b[1;32m     21\u001b[0m \u001b[39mdef\u001b[39;00m \u001b[39mmake_model\u001b[39m(args, verbose\u001b[39m=\u001b[39m\u001b[39mTrue\u001b[39;00m):\n\u001b[1;32m     22\u001b[0m     \u001b[39mif\u001b[39;00m verbose:\n",
      "File \u001b[0;32m/misc/usrhomes/g013/SemanticStyleGAN/notebooks/../../SemanticStyleGAN/models/semantic_stylegan.py:25\u001b[0m, in \u001b[0;36m<module>\u001b[0;34m\u001b[0m\n\u001b[1;32m     22\u001b[0m \u001b[39mfrom\u001b[39;00m \u001b[39mtorch\u001b[39;00m \u001b[39mimport\u001b[39;00m nn\n\u001b[1;32m     23\u001b[0m \u001b[39mimport\u001b[39;00m \u001b[39mtorch\u001b[39;00m\u001b[39m.\u001b[39;00m\u001b[39mnn\u001b[39;00m\u001b[39m.\u001b[39;00m\u001b[39mfunctional\u001b[39;00m \u001b[39mas\u001b[39;00m \u001b[39mF\u001b[39;00m\n\u001b[0;32m---> 25\u001b[0m \u001b[39mfrom\u001b[39;00m \u001b[39m.\u001b[39;00m\u001b[39mutils\u001b[39;00m \u001b[39mimport\u001b[39;00m (\n\u001b[1;32m     26\u001b[0m     StyledConv,\n\u001b[1;32m     27\u001b[0m     FixedStyledConv,\n\u001b[1;32m     28\u001b[0m     ToRGB,\n\u001b[1;32m     29\u001b[0m     PixelNorm,\n\u001b[1;32m     30\u001b[0m     EqualLinear,\n\u001b[1;32m     31\u001b[0m     ConvLayer,\n\u001b[1;32m     32\u001b[0m     ResBlock,\n\u001b[1;32m     33\u001b[0m     PositionEmbedding,\n\u001b[1;32m     34\u001b[0m )\n\u001b[1;32m     37\u001b[0m \u001b[39mclass\u001b[39;00m \u001b[39mLocalGenerator\u001b[39;00m(nn\u001b[39m.\u001b[39mModule):\n\u001b[1;32m     38\u001b[0m     \u001b[39mdef\u001b[39;00m \u001b[39m__init__\u001b[39m(\n\u001b[1;32m     39\u001b[0m         \u001b[39mself\u001b[39m,\n\u001b[1;32m     40\u001b[0m         in_channel,\n\u001b[0;32m   (...)\u001b[0m\n\u001b[1;32m     47\u001b[0m         detach_texture\u001b[39m=\u001b[39m\u001b[39mFalse\u001b[39;00m,\n\u001b[1;32m     48\u001b[0m     ):\n",
      "File \u001b[0;32m/misc/usrhomes/g013/SemanticStyleGAN/notebooks/../../SemanticStyleGAN/models/utils.py:16\u001b[0m, in \u001b[0;36m<module>\u001b[0;34m\u001b[0m\n\u001b[1;32m     14\u001b[0m \u001b[39mfrom\u001b[39;00m \u001b[39mtorch\u001b[39;00m\u001b[39m.\u001b[39;00m\u001b[39mnn\u001b[39;00m \u001b[39mimport\u001b[39;00m functional \u001b[39mas\u001b[39;00m F\n\u001b[1;32m     15\u001b[0m \u001b[39mimport\u001b[39;00m \u001b[39mtorch\u001b[39;00m\u001b[39m.\u001b[39;00m\u001b[39mnn\u001b[39;00m\u001b[39m.\u001b[39;00m\u001b[39mutils\u001b[39;00m\u001b[39m.\u001b[39;00m\u001b[39mparametrizations\u001b[39;00m \u001b[39mas\u001b[39;00m \u001b[39mparametrizations\u001b[39;00m\n\u001b[0;32m---> 16\u001b[0m \u001b[39mfrom\u001b[39;00m \u001b[39m.\u001b[39;00m\u001b[39mop\u001b[39;00m \u001b[39mimport\u001b[39;00m FusedLeakyReLU, fused_leaky_relu, upfirdn2d, conv2d_gradfix\n\u001b[1;32m     19\u001b[0m \u001b[39mclass\u001b[39;00m \u001b[39mBlur\u001b[39;00m(nn\u001b[39m.\u001b[39mModule):\n\u001b[1;32m     20\u001b[0m     \u001b[39mdef\u001b[39;00m \u001b[39m__init__\u001b[39m(\u001b[39mself\u001b[39m, kernel, pad, upsample_factor\u001b[39m=\u001b[39m\u001b[39m1\u001b[39m):\n",
      "File \u001b[0;32m/misc/usrhomes/g013/SemanticStyleGAN/notebooks/../../SemanticStyleGAN/models/op/__init__.py:1\u001b[0m, in \u001b[0;36m<module>\u001b[0;34m\u001b[0m\n\u001b[0;32m----> 1\u001b[0m \u001b[39mfrom\u001b[39;00m \u001b[39m.\u001b[39;00m\u001b[39mfused_act\u001b[39;00m \u001b[39mimport\u001b[39;00m FusedLeakyReLU, fused_leaky_relu\n\u001b[1;32m      2\u001b[0m \u001b[39mfrom\u001b[39;00m \u001b[39m.\u001b[39;00m\u001b[39mupfirdn2d\u001b[39;00m \u001b[39mimport\u001b[39;00m upfirdn2d\n",
      "File \u001b[0;32m/misc/usrhomes/g013/SemanticStyleGAN/notebooks/../../SemanticStyleGAN/models/op/fused_act.py:19\u001b[0m, in \u001b[0;36m<module>\u001b[0;34m\u001b[0m\n\u001b[1;32m     15\u001b[0m \u001b[39mfrom\u001b[39;00m \u001b[39mtorch\u001b[39;00m\u001b[39m.\u001b[39;00m\u001b[39mutils\u001b[39;00m\u001b[39m.\u001b[39;00m\u001b[39mcpp_extension\u001b[39;00m \u001b[39mimport\u001b[39;00m load\n\u001b[1;32m     18\u001b[0m module_path \u001b[39m=\u001b[39m os\u001b[39m.\u001b[39mpath\u001b[39m.\u001b[39mdirname(\u001b[39m__file__\u001b[39m)\n\u001b[0;32m---> 19\u001b[0m fused \u001b[39m=\u001b[39m load(\n\u001b[1;32m     20\u001b[0m     \u001b[39m\"\u001b[39;49m\u001b[39mfused\u001b[39;49m\u001b[39m\"\u001b[39;49m,\n\u001b[1;32m     21\u001b[0m     sources\u001b[39m=\u001b[39;49m[\n\u001b[1;32m     22\u001b[0m         os\u001b[39m.\u001b[39;49mpath\u001b[39m.\u001b[39;49mjoin(module_path, \u001b[39m\"\u001b[39;49m\u001b[39mfused_bias_act.cpp\u001b[39;49m\u001b[39m\"\u001b[39;49m),\n\u001b[1;32m     23\u001b[0m         os\u001b[39m.\u001b[39;49mpath\u001b[39m.\u001b[39;49mjoin(module_path, \u001b[39m\"\u001b[39;49m\u001b[39mfused_bias_act_kernel.cu\u001b[39;49m\u001b[39m\"\u001b[39;49m),\n\u001b[1;32m     24\u001b[0m     ],\n\u001b[1;32m     25\u001b[0m )\n\u001b[1;32m     28\u001b[0m \u001b[39mclass\u001b[39;00m \u001b[39mFusedLeakyReLUFunctionBackward\u001b[39;00m(Function):\n\u001b[1;32m     29\u001b[0m     \u001b[39m@staticmethod\u001b[39m\n\u001b[1;32m     30\u001b[0m     \u001b[39mdef\u001b[39;00m \u001b[39mforward\u001b[39m(ctx, grad_output, out, bias, negative_slope, scale):\n",
      "File \u001b[0;32m~/anaconda3/envs/myenv/lib/python3.9/site-packages/torch/utils/cpp_extension.py:1202\u001b[0m, in \u001b[0;36mload\u001b[0;34m(name, sources, extra_cflags, extra_cuda_cflags, extra_ldflags, extra_include_paths, build_directory, verbose, with_cuda, is_python_module, is_standalone, keep_intermediates)\u001b[0m\n\u001b[1;32m   1111\u001b[0m \u001b[39mdef\u001b[39;00m \u001b[39mload\u001b[39m(name,\n\u001b[1;32m   1112\u001b[0m          sources: Union[\u001b[39mstr\u001b[39m, List[\u001b[39mstr\u001b[39m]],\n\u001b[1;32m   1113\u001b[0m          extra_cflags\u001b[39m=\u001b[39m\u001b[39mNone\u001b[39;00m,\n\u001b[0;32m   (...)\u001b[0m\n\u001b[1;32m   1121\u001b[0m          is_standalone\u001b[39m=\u001b[39m\u001b[39mFalse\u001b[39;00m,\n\u001b[1;32m   1122\u001b[0m          keep_intermediates\u001b[39m=\u001b[39m\u001b[39mTrue\u001b[39;00m):\n\u001b[1;32m   1123\u001b[0m     \u001b[39mr\u001b[39m\u001b[39m'''\u001b[39;00m\n\u001b[1;32m   1124\u001b[0m \u001b[39m    Loads a PyTorch C++ extension just-in-time (JIT).\u001b[39;00m\n\u001b[1;32m   1125\u001b[0m \n\u001b[0;32m   (...)\u001b[0m\n\u001b[1;32m   1200\u001b[0m \u001b[39m                verbose=True)\u001b[39;00m\n\u001b[1;32m   1201\u001b[0m \u001b[39m    '''\u001b[39;00m\n\u001b[0;32m-> 1202\u001b[0m     \u001b[39mreturn\u001b[39;00m _jit_compile(\n\u001b[1;32m   1203\u001b[0m         name,\n\u001b[1;32m   1204\u001b[0m         [sources] \u001b[39mif\u001b[39;49;00m \u001b[39misinstance\u001b[39;49m(sources, \u001b[39mstr\u001b[39;49m) \u001b[39melse\u001b[39;49;00m sources,\n\u001b[1;32m   1205\u001b[0m         extra_cflags,\n\u001b[1;32m   1206\u001b[0m         extra_cuda_cflags,\n\u001b[1;32m   1207\u001b[0m         extra_ldflags,\n\u001b[1;32m   1208\u001b[0m         extra_include_paths,\n\u001b[1;32m   1209\u001b[0m         build_directory \u001b[39mor\u001b[39;49;00m _get_build_directory(name, verbose),\n\u001b[1;32m   1210\u001b[0m         verbose,\n\u001b[1;32m   1211\u001b[0m         with_cuda,\n\u001b[1;32m   1212\u001b[0m         is_python_module,\n\u001b[1;32m   1213\u001b[0m         is_standalone,\n\u001b[1;32m   1214\u001b[0m         keep_intermediates\u001b[39m=\u001b[39;49mkeep_intermediates)\n",
      "File \u001b[0;32m~/anaconda3/envs/myenv/lib/python3.9/site-packages/torch/utils/cpp_extension.py:1425\u001b[0m, in \u001b[0;36m_jit_compile\u001b[0;34m(name, sources, extra_cflags, extra_cuda_cflags, extra_ldflags, extra_include_paths, build_directory, verbose, with_cuda, is_python_module, is_standalone, keep_intermediates)\u001b[0m\n\u001b[1;32m   1421\u001b[0m                 hipified_sources\u001b[39m.\u001b[39madd(hipify_result[s_abs][\u001b[39m\"\u001b[39m\u001b[39mhipified_path\u001b[39m\u001b[39m\"\u001b[39m] \u001b[39mif\u001b[39;00m s_abs \u001b[39min\u001b[39;00m hipify_result \u001b[39melse\u001b[39;00m s_abs)\n\u001b[1;32m   1423\u001b[0m             sources \u001b[39m=\u001b[39m \u001b[39mlist\u001b[39m(hipified_sources)\n\u001b[0;32m-> 1425\u001b[0m         _write_ninja_file_and_build_library(\n\u001b[1;32m   1426\u001b[0m             name\u001b[39m=\u001b[39;49mname,\n\u001b[1;32m   1427\u001b[0m             sources\u001b[39m=\u001b[39;49msources,\n\u001b[1;32m   1428\u001b[0m             extra_cflags\u001b[39m=\u001b[39;49mextra_cflags \u001b[39mor\u001b[39;49;00m [],\n\u001b[1;32m   1429\u001b[0m             extra_cuda_cflags\u001b[39m=\u001b[39;49mextra_cuda_cflags \u001b[39mor\u001b[39;49;00m [],\n\u001b[1;32m   1430\u001b[0m             extra_ldflags\u001b[39m=\u001b[39;49mextra_ldflags \u001b[39mor\u001b[39;49;00m [],\n\u001b[1;32m   1431\u001b[0m             extra_include_paths\u001b[39m=\u001b[39;49mextra_include_paths \u001b[39mor\u001b[39;49;00m [],\n\u001b[1;32m   1432\u001b[0m             build_directory\u001b[39m=\u001b[39;49mbuild_directory,\n\u001b[1;32m   1433\u001b[0m             verbose\u001b[39m=\u001b[39;49mverbose,\n\u001b[1;32m   1434\u001b[0m             with_cuda\u001b[39m=\u001b[39;49mwith_cuda,\n\u001b[1;32m   1435\u001b[0m             is_standalone\u001b[39m=\u001b[39;49mis_standalone)\n\u001b[1;32m   1436\u001b[0m \u001b[39mfinally\u001b[39;00m:\n\u001b[1;32m   1437\u001b[0m     baton\u001b[39m.\u001b[39mrelease()\n",
      "File \u001b[0;32m~/anaconda3/envs/myenv/lib/python3.9/site-packages/torch/utils/cpp_extension.py:1514\u001b[0m, in \u001b[0;36m_write_ninja_file_and_build_library\u001b[0;34m(name, sources, extra_cflags, extra_cuda_cflags, extra_ldflags, extra_include_paths, build_directory, verbose, with_cuda, is_standalone)\u001b[0m\n\u001b[1;32m   1512\u001b[0m \u001b[39mif\u001b[39;00m with_cuda \u001b[39mis\u001b[39;00m \u001b[39mNone\u001b[39;00m:\n\u001b[1;32m   1513\u001b[0m     with_cuda \u001b[39m=\u001b[39m \u001b[39many\u001b[39m(\u001b[39mmap\u001b[39m(_is_cuda_file, sources))\n\u001b[0;32m-> 1514\u001b[0m extra_ldflags \u001b[39m=\u001b[39m _prepare_ldflags(\n\u001b[1;32m   1515\u001b[0m     extra_ldflags \u001b[39mor\u001b[39;49;00m [],\n\u001b[1;32m   1516\u001b[0m     with_cuda,\n\u001b[1;32m   1517\u001b[0m     verbose,\n\u001b[1;32m   1518\u001b[0m     is_standalone)\n\u001b[1;32m   1519\u001b[0m build_file_path \u001b[39m=\u001b[39m os\u001b[39m.\u001b[39mpath\u001b[39m.\u001b[39mjoin(build_directory, \u001b[39m'\u001b[39m\u001b[39mbuild.ninja\u001b[39m\u001b[39m'\u001b[39m)\n\u001b[1;32m   1520\u001b[0m \u001b[39mif\u001b[39;00m verbose:\n",
      "File \u001b[0;32m~/anaconda3/envs/myenv/lib/python3.9/site-packages/torch/utils/cpp_extension.py:1622\u001b[0m, in \u001b[0;36m_prepare_ldflags\u001b[0;34m(extra_ldflags, with_cuda, verbose, is_standalone)\u001b[0m\n\u001b[1;32m   1620\u001b[0m         extra_ldflags\u001b[39m.\u001b[39mappend(os\u001b[39m.\u001b[39mpath\u001b[39m.\u001b[39mjoin(CUDNN_HOME, \u001b[39m'\u001b[39m\u001b[39mlib/x64\u001b[39m\u001b[39m'\u001b[39m))\n\u001b[1;32m   1621\u001b[0m \u001b[39melif\u001b[39;00m \u001b[39mnot\u001b[39;00m IS_HIP_EXTENSION:\n\u001b[0;32m-> 1622\u001b[0m     extra_ldflags\u001b[39m.\u001b[39mappend(\u001b[39mf\u001b[39m\u001b[39m'\u001b[39m\u001b[39m-L\u001b[39m\u001b[39m{\u001b[39;00m_join_cuda_home(\u001b[39m\"\u001b[39m\u001b[39mlib64\u001b[39m\u001b[39m\"\u001b[39m)\u001b[39m}\u001b[39;00m\u001b[39m'\u001b[39m)\n\u001b[1;32m   1623\u001b[0m     extra_ldflags\u001b[39m.\u001b[39mappend(\u001b[39m'\u001b[39m\u001b[39m-lcudart\u001b[39m\u001b[39m'\u001b[39m)\n\u001b[1;32m   1624\u001b[0m     \u001b[39mif\u001b[39;00m CUDNN_HOME \u001b[39mis\u001b[39;00m \u001b[39mnot\u001b[39;00m \u001b[39mNone\u001b[39;00m:\n",
      "File \u001b[0;32m~/anaconda3/envs/myenv/lib/python3.9/site-packages/torch/utils/cpp_extension.py:2125\u001b[0m, in \u001b[0;36m_join_cuda_home\u001b[0;34m(*paths)\u001b[0m\n\u001b[1;32m   2118\u001b[0m \u001b[39mr\u001b[39m\u001b[39m'''\u001b[39;00m\n\u001b[1;32m   2119\u001b[0m \u001b[39mJoins paths with CUDA_HOME, or raises an error if it CUDA_HOME is not set.\u001b[39;00m\n\u001b[1;32m   2120\u001b[0m \n\u001b[1;32m   2121\u001b[0m \u001b[39mThis is basically a lazy way of raising an error for missing $CUDA_HOME\u001b[39;00m\n\u001b[1;32m   2122\u001b[0m \u001b[39monly once we need to get any CUDA-specific path.\u001b[39;00m\n\u001b[1;32m   2123\u001b[0m \u001b[39m'''\u001b[39;00m\n\u001b[1;32m   2124\u001b[0m \u001b[39mif\u001b[39;00m CUDA_HOME \u001b[39mis\u001b[39;00m \u001b[39mNone\u001b[39;00m:\n\u001b[0;32m-> 2125\u001b[0m     \u001b[39mraise\u001b[39;00m \u001b[39mEnvironmentError\u001b[39;00m(\u001b[39m'\u001b[39m\u001b[39mCUDA_HOME environment variable is not set. \u001b[39m\u001b[39m'\u001b[39m\n\u001b[1;32m   2126\u001b[0m                            \u001b[39m'\u001b[39m\u001b[39mPlease set it to your CUDA install root.\u001b[39m\u001b[39m'\u001b[39m)\n\u001b[1;32m   2127\u001b[0m \u001b[39mreturn\u001b[39;00m os\u001b[39m.\u001b[39mpath\u001b[39m.\u001b[39mjoin(CUDA_HOME, \u001b[39m*\u001b[39mpaths)\n",
      "\u001b[0;31mOSError\u001b[0m: CUDA_HOME environment variable is not set. Please set it to your CUDA install root."
     ]
    }
   ],
   "source": [
    "import os\n",
    "import argparse\n",
    "import shutil\n",
    "import numpy as np\n",
    "import imageio\n",
    "import torch\n",
    "import sys\n",
    "\n",
    "sys.path.insert(0, \"../../SemanticStyleGAN\")\n",
    "from models import make_model\n",
    "from visualize.utils import generate, cubic_spline_interpolate"
   ]
  },
  {
   "cell_type": "code",
   "execution_count": 1,
   "metadata": {},
   "outputs": [
    {
     "name": "stderr",
     "output_type": "stream",
     "text": [
      "/usrhomes/g013/anaconda3/envs/myenv/lib/python3.9/site-packages/tqdm/auto.py:22: TqdmWarning: IProgress not found. Please update jupyter and ipywidgets. See https://ipywidgets.readthedocs.io/en/stable/user_install.html\n",
      "  from .autonotebook import tqdm as notebook_tqdm\n"
     ]
    }
   ],
   "source": [
    "import pandas as pd\n",
    "import numpy as np\n",
    "from pathlib import Path\n",
    "import json\n",
    "import os\n",
    "import collections\n",
    "import re \n",
    "from imageio import imread, imwrite\n",
    "from multiprocessing import Pool\n",
    "import matplotlib.pyplot as plt\n",
    "import cv2\n",
    "import gdown\n",
    "import torch\n",
    "#import matplotlib.pyplot as plt"
   ]
  },
  {
   "cell_type": "markdown",
   "metadata": {},
   "source": [
    "#### Downloading semantic pallette checkpoints|"
   ]
  },
  {
   "cell_type": "code",
   "execution_count": null,
   "metadata": {},
   "outputs": [],
   "source": [
    "url = \"https://drive.google.com/u/0//uc?id=12wB8OLDJfZgY_LcaxQxB_XfbRJxI3T_J\"\n",
    "PATH_CHECKPOINT = '/no_backups/g013/other_GANs/SemanticPalette/checkpoints/cityscapes25k-ckpt.zip'\n",
    "gdown.download(url, PATH_CHECKPOINT, quiet=False)"
   ]
  },
  {
   "cell_type": "code",
   "execution_count": 2,
   "metadata": {},
   "outputs": [
    {
     "name": "stderr",
     "output_type": "stream",
     "text": [
      "Downloading...\n",
      "From: https://drive.google.com/u/0/uc?id=1XwuMsTIEKO0P5cEz1gptm6vkq6o0xs9P\n",
      "To: /no_backups/g013/other_GANs/SemanticPalette/checkpoints/cityscapes-ckpt-2.zip\n",
      "100%|██████████| 544M/544M [00:06<00:00, 80.6MB/s] \n"
     ]
    },
    {
     "data": {
      "text/plain": [
       "'/no_backups/g013/other_GANs/SemanticPalette/checkpoints/cityscapes-ckpt-2.zip'"
      ]
     },
     "execution_count": 2,
     "metadata": {},
     "output_type": "execute_result"
    }
   ],
   "source": [
    "url = \"https://drive.google.com/u/0/uc?id=1XwuMsTIEKO0P5cEz1gptm6vkq6o0xs9P\"\n",
    "PATH_CHECKPOINT = '/no_backups/g013/other_GANs/SemanticPalette/checkpoints/cityscapes-ckpt-2.zip'\n",
    "gdown.download(url, PATH_CHECKPOINT, quiet=False)"
   ]
  },
  {
   "cell_type": "markdown",
   "metadata": {},
   "source": []
  },
  {
   "cell_type": "code",
   "execution_count": null,
   "metadata": {},
   "outputs": [],
   "source": []
  }
 ],
 "metadata": {
  "kernelspec": {
   "display_name": "Python 3.9.12 ('myenv': conda)",
   "language": "python",
   "name": "python3"
  },
  "language_info": {
   "codemirror_mode": {
    "name": "ipython",
    "version": 3
   },
   "file_extension": ".py",
   "mimetype": "text/x-python",
   "name": "python",
   "nbconvert_exporter": "python",
   "pygments_lexer": "ipython3",
   "version": "3.9.12"
  },
  "orig_nbformat": 4,
  "vscode": {
   "interpreter": {
    "hash": "c8daaeadef7a295f68d0e95189507333c5c96e909e217a26b6b4a4818e648299"
   }
  }
 },
 "nbformat": 4,
 "nbformat_minor": 2
}
