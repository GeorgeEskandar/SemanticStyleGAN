{
 "cells": [
  {
   "cell_type": "markdown",
   "metadata": {},
   "source": [
    "#### Imports"
   ]
  },
  {
   "cell_type": "code",
   "execution_count": 1,
   "metadata": {},
   "outputs": [
    {
     "name": "stderr",
     "output_type": "stream",
     "text": [
      "/usrhomes/g013/anaconda3/envs/myenv/lib/python3.9/site-packages/tqdm/auto.py:22: TqdmWarning: IProgress not found. Please update jupyter and ipywidgets. See https://ipywidgets.readthedocs.io/en/stable/user_install.html\n",
      "  from .autonotebook import tqdm as notebook_tqdm\n"
     ]
    }
   ],
   "source": [
    "import pandas as pd\n",
    "import numpy as np\n",
    "from pathlib import Path\n",
    "import json\n",
    "import os\n",
    "import collections\n",
    "import re \n",
    "from imageio import imread, imwrite\n",
    "from multiprocessing import Pool\n",
    "import matplotlib.pyplot as plt\n",
    "import cv2\n",
    "import gdown\n",
    "import torch\n",
    "#import matplotlib.pyplot as plt"
   ]
  },
  {
   "cell_type": "markdown",
   "metadata": {},
   "source": [
    "#### Downloading semantic pallette checkpoints|"
   ]
  },
  {
   "cell_type": "code",
   "execution_count": null,
   "metadata": {},
   "outputs": [],
   "source": [
    "url = \"https://drive.google.com/u/0//uc?id=12wB8OLDJfZgY_LcaxQxB_XfbRJxI3T_J\"\n",
    "PATH_CHECKPOINT = '/no_backups/g013/other_GANs/SemanticPalette/checkpoints/cityscapes25k-ckpt.zip'\n",
    "gdown.download(url, PATH_CHECKPOINT, quiet=False)"
   ]
  },
  {
   "cell_type": "code",
   "execution_count": 2,
   "metadata": {},
   "outputs": [
    {
     "name": "stderr",
     "output_type": "stream",
     "text": [
      "Downloading...\n",
      "From: https://drive.google.com/u/0/uc?id=1XwuMsTIEKO0P5cEz1gptm6vkq6o0xs9P\n",
      "To: /no_backups/g013/other_GANs/SemanticPalette/checkpoints/cityscapes-ckpt-2.zip\n",
      "100%|██████████| 544M/544M [00:06<00:00, 80.6MB/s] \n"
     ]
    },
    {
     "data": {
      "text/plain": [
       "'/no_backups/g013/other_GANs/SemanticPalette/checkpoints/cityscapes-ckpt-2.zip'"
      ]
     },
     "execution_count": 2,
     "metadata": {},
     "output_type": "execute_result"
    }
   ],
   "source": [
    "url = \"https://drive.google.com/u/0/uc?id=1XwuMsTIEKO0P5cEz1gptm6vkq6o0xs9P\"\n",
    "PATH_CHECKPOINT = '/no_backups/g013/other_GANs/SemanticPalette/checkpoints/cityscapes-ckpt-2.zip'\n",
    "gdown.download(url, PATH_CHECKPOINT, quiet=False)"
   ]
  },
  {
   "cell_type": "markdown",
   "metadata": {},
   "source": []
  },
  {
   "cell_type": "code",
   "execution_count": null,
   "metadata": {},
   "outputs": [],
   "source": []
  }
 ],
 "metadata": {
  "kernelspec": {
   "display_name": "Python 3.9.12 ('myenv': conda)",
   "language": "python",
   "name": "python3"
  },
  "language_info": {
   "codemirror_mode": {
    "name": "ipython",
    "version": 3
   },
   "file_extension": ".py",
   "mimetype": "text/x-python",
   "name": "python",
   "nbconvert_exporter": "python",
   "pygments_lexer": "ipython3",
   "version": "3.9.12"
  },
  "orig_nbformat": 4,
  "vscode": {
   "interpreter": {
    "hash": "c8daaeadef7a295f68d0e95189507333c5c96e909e217a26b6b4a4818e648299"
   }
  }
 },
 "nbformat": 4,
 "nbformat_minor": 2
}
