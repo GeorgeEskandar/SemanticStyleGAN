{
 "cells": [
  {
   "cell_type": "code",
   "execution_count": 1,
   "metadata": {},
   "outputs": [],
   "source": [
    "import pandas as pd\n",
    "import numpy as np\n",
    "from pathlib import Path\n",
    "import json\n",
    "import os\n",
    "import collections\n",
    "import matplotlib.pyplot as plt\n",
    "from pathlib import Path\n",
    "from imageio import imread, imwrite\n",
    "import cv2\n",
    "import sys\n",
    "sys.path.insert(0, \"../../SemanticStyleGAN\")\n",
    "from data.preprocess_idd import process_img as process_img_2\n",
    "#Labels are based upon https://github.com/AutoNUE/public-code/blob/master/helpers/anue_labels.py"
   ]
  },
  {
   "cell_type": "code",
   "execution_count": 4,
   "metadata": {},
   "outputs": [],
   "source": [
    "dataset_path =\"/data/public/idd-segmentation/IDD_Segmentation\"\n",
    "# d1=dataset_path+\"/IDD_Segmentation\"\n",
    "# d2=dataset_path+\"/idd20kII\"\n",
    "# f1 = sum([len(files) for r, d, files in os.walk(d1)])\n",
    "# f2 = sum([len(files) for r, d, files in os.walk(d2)])\n",
    "# print(f1)\n",
    "# print(f2)\n"
   ]
  },
  {
   "cell_type": "code",
   "execution_count": 3,
   "metadata": {},
   "outputs": [
    {
     "name": "stderr",
     "output_type": "stream",
     "text": [
      "/tmp/ipykernel_929024/1636446265.py:7: DeprecationWarning: Starting with ImageIO v3 the behavior of this function will switch to that of iio.v3.imread. To keep the current behavior (and make this warning disappear) use `import imageio.v2 as imageio` or call `imageio.v2.imread` directly.\n",
      "  image = imread(filepath)\n"
     ]
    },
    {
     "ename": "NameError",
     "evalue": "name 'labels' is not defined",
     "output_type": "error",
     "traceback": [
      "\u001b[0;31m---------------------------------------------------------------------------\u001b[0m",
      "\u001b[0;31mNameError\u001b[0m                                 Traceback (most recent call last)",
      "\u001b[1;32m/usrhomes/g013/SemanticStyleGAN/notebooks/IDD_exploration.ipynb Cell 3\u001b[0m in \u001b[0;36m<cell line: 6>\u001b[0;34m()\u001b[0m\n\u001b[1;32m      <a href='vscode-notebook-cell://ssh-remote%2Blogin1/usrhomes/g013/SemanticStyleGAN/notebooks/IDD_exploration.ipynb#W2sdnNjb2RlLXJlbW90ZQ%3D%3D?line=6'>7</a>\u001b[0m image \u001b[39m=\u001b[39m imread(filepath)\n\u001b[1;32m      <a href='vscode-notebook-cell://ssh-remote%2Blogin1/usrhomes/g013/SemanticStyleGAN/notebooks/IDD_exploration.ipynb#W2sdnNjb2RlLXJlbW90ZQ%3D%3D?line=7'>8</a>\u001b[0m image[image\u001b[39m==\u001b[39medited_class]\u001b[39m=\u001b[39m\u001b[39m200\u001b[39m\n\u001b[0;32m----> <a href='vscode-notebook-cell://ssh-remote%2Blogin1/usrhomes/g013/SemanticStyleGAN/notebooks/IDD_exploration.ipynb#W2sdnNjb2RlLXJlbW90ZQ%3D%3D?line=8'>9</a>\u001b[0m cv2\u001b[39m.\u001b[39mimwrite(\u001b[39mf\u001b[39m\u001b[39m\"\u001b[39m\u001b[39m./data_idd/sample_img_\u001b[39m\u001b[39m{\u001b[39;00m\u001b[39mlist\u001b[39m(labels)[edited_class]\u001b[39m}\u001b[39;00m\u001b[39m_\u001b[39m\u001b[39m{\u001b[39;00medited_class\u001b[39m}\u001b[39;00m\u001b[39m.png\u001b[39m\u001b[39m\"\u001b[39m,image)\n",
      "\u001b[0;31mNameError\u001b[0m: name 'labels' is not defined"
     ]
    }
   ],
   "source": [
    "## Identify a certain class by Edtiting it's pixel\n",
    "dataset_path=\"/data/public/idd-segmentation/IDD_Segmentation/\"\n",
    "filepath=\"/data/public/idd-segmentation/IDD_Segmentation/gtFine/train/2/116356_gtFine_labelids.png\"\n",
    "\n",
    "edited_class=0\n",
    "for edited_class in np.arange(0,36):\n",
    "    image = imread(filepath)\n",
    "    image[image==edited_class]=200\n",
    "    cv2.imwrite(f\"./data_idd/sample_img_{list(labels)[edited_class]}_{edited_class}.png\",image)\n"
   ]
  },
  {
   "cell_type": "code",
   "execution_count": 4,
   "metadata": {},
   "outputs": [
    {
     "name": "stdout",
     "output_type": "stream",
     "text": [
      "7974\n"
     ]
    }
   ],
   "source": [
    "count=0\n",
    "maxi=0\n",
    "for subdir, _, files in os.walk(dataset_path):\n",
    "    for file in files:\n",
    "        if \"labelids\" in file:\n",
    "            count+=1\n",
    "print(count)"
   ]
  },
  {
   "cell_type": "markdown",
   "metadata": {},
   "source": [
    "#### Processing the whole Dataset"
   ]
  },
  {
   "cell_type": "code",
   "execution_count": 27,
   "metadata": {},
   "outputs": [],
   "source": [
    "###Searching all the dataset for images that contains a certain class.\n",
    "def process_img(dataset_path, output_prefix):\n",
    "    accum = 0\n",
    "    files_count = sum([len(files) for r, d, files in os.walk(dataset_path)])\n",
    "    for subdir, _, files in os.walk(dataset_path):\n",
    "        # The dataset has to be of format */gtFine/train/*/*.png\n",
    "\n",
    "        ##Creation of the same directories again.\n",
    "        if subdir.split(\"/\")[-3] == \"gtFine\":\n",
    "            output_dir = \"/\".join(subdir.split(\"/\")[-3:]).replace(\n",
    "                \"gtFine\", \"gtFine_preprocessed\"\n",
    "            )\n",
    "            output_dir = Path(output_prefix + output_dir)\n",
    "            # print(output_dir)\n",
    "            #output_dir.mkdir(parents=True, exist_ok=True)##TODO: Remove later\n",
    "        for file in files:\n",
    "            \n",
    "            #if accum % 1000 == 0:\n",
    "               # print(f\"Done with {accum}/{files_count} images\")\n",
    "            \n",
    "            if \"labellevel3Ids\" not in file:\n",
    "                continue\n",
    "            accum += 1\n",
    "            filepath = subdir + os.sep + file\n",
    "            output_path_1 = str(output_dir) + os.sep +str(accum)+ \"animal\" +file\n",
    "            output_path_2 = str(output_dir) + os.sep + str(accum)+\"obst_fall\"+file\n",
    "            output_path_3 = str(output_dir) + os.sep + str(accum)+\"back_fall\"+file\n",
    "            image = imread(filepath)\n",
    "            image_animal=image.copy()\n",
    "            image_obst_fallback=image.copy()\n",
    "            image_back_fallback=image.copy()\n",
    "            image_animal[image_animal==4]=200\n",
    "            image_obst_fallback[image_obst_fallback==21]=200\n",
    "            image_back_fallback[image_back_fallback==25]=200\n",
    "            # preprocessed_image = simplify_image_labels(image, False)\n",
    "            if (image==7).mean() >0:\n",
    "                 print(output_path_3)\n",
    "                 output_dir.mkdir(parents=True, exist_ok=True)\n",
    "                 cv2.imwrite(output_path_1, image_animal)\n",
    "                 cv2.imwrite(output_path_2, image_obst_fallback)\n",
    "                 cv2.imwrite(output_path_3, image_back_fallback)\n",
    "    print(f\"All files has been processed\")"
   ]
  },
  {
   "cell_type": "code",
   "execution_count": 5,
   "metadata": {},
   "outputs": [
    {
     "ename": "NameError",
     "evalue": "name 'process_img' is not defined",
     "output_type": "error",
     "traceback": [
      "\u001b[0;31m---------------------------------------------------------------------------\u001b[0m",
      "\u001b[0;31mNameError\u001b[0m                                 Traceback (most recent call last)",
      "\u001b[1;32m/usrhomes/g013/SemanticStyleGAN/notebooks/IDD_exploration.ipynb Cell 7\u001b[0m in \u001b[0;36m<cell line: 2>\u001b[0;34m()\u001b[0m\n\u001b[1;32m      <a href='vscode-notebook-cell://ssh-remote%2Blogin1/usrhomes/g013/SemanticStyleGAN/notebooks/IDD_exploration.ipynb#W6sdnNjb2RlLXJlbW90ZQ%3D%3D?line=0'>1</a>\u001b[0m dataset_path \u001b[39m=\u001b[39m\u001b[39m\"\u001b[39m\u001b[39m/data/public/idd-segmentation/IDD_Segmentation\u001b[39m\u001b[39m\"\u001b[39m\n\u001b[0;32m----> <a href='vscode-notebook-cell://ssh-remote%2Blogin1/usrhomes/g013/SemanticStyleGAN/notebooks/IDD_exploration.ipynb#W6sdnNjb2RlLXJlbW90ZQ%3D%3D?line=1'>2</a>\u001b[0m process_img(dataset_path,\u001b[39m\"\u001b[39m\u001b[39m./data_idd/IDD_v6_output/\u001b[39m\u001b[39m\"\u001b[39m)\n",
      "\u001b[0;31mNameError\u001b[0m: name 'process_img' is not defined"
     ]
    }
   ],
   "source": [
    "dataset_path =\"/data/public/idd-segmentation/IDD_Segmentation\"\n",
    "process_img(dataset_path,\"./data_idd/output/\")"
   ]
  },
  {
   "cell_type": "code",
   "execution_count": 2,
   "metadata": {},
   "outputs": [
    {
     "name": "stdout",
     "output_type": "stream",
     "text": [
      "Converting from normal ID maps\n",
      "['', 'data', 'public', 'idd-segmentation', 'IDD_Segmentation', 'gtFine']\n",
      "['', 'data', 'public', 'idd-segmentation', 'IDD_Segmentation', 'gtFine', 'train']\n",
      "['', 'data', 'public', 'idd-segmentation', 'IDD_Segmentation', 'gtFine', 'train', '138']\n",
      "['', 'data', 'public', 'idd-segmentation', 'IDD_Segmentation', 'gtFine', 'train', '2']\n",
      "['', 'data', 'public', 'idd-segmentation', 'IDD_Segmentation', 'gtFine', 'train', '95']\n",
      "['', 'data', 'public', 'idd-segmentation', 'IDD_Segmentation', 'gtFine', 'train', '71']\n",
      "['', 'data', 'public', 'idd-segmentation', 'IDD_Segmentation', 'gtFine', 'train', '145']\n",
      "Done with 1000/39870 images\n",
      "['', 'data', 'public', 'idd-segmentation', 'IDD_Segmentation', 'gtFine', 'train', '49']\n",
      "['', 'data', 'public', 'idd-segmentation', 'IDD_Segmentation', 'gtFine', 'train', '177']\n",
      "['', 'data', 'public', 'idd-segmentation', 'IDD_Segmentation', 'gtFine', 'train', '100']\n",
      "Done with 2000/39870 images\n",
      "['', 'data', 'public', 'idd-segmentation', 'IDD_Segmentation', 'gtFine', 'train', '34']\n",
      "['', 'data', 'public', 'idd-segmentation', 'IDD_Segmentation', 'gtFine', 'train', '43']\n",
      "['', 'data', 'public', 'idd-segmentation', 'IDD_Segmentation', 'gtFine', 'train', '121']\n",
      "['', 'data', 'public', 'idd-segmentation', 'IDD_Segmentation', 'gtFine', 'train', '156']\n",
      "Done with 3000/39870 images\n",
      "['', 'data', 'public', 'idd-segmentation', 'IDD_Segmentation', 'gtFine', 'train', '86']\n",
      "['', 'data', 'public', 'idd-segmentation', 'IDD_Segmentation', 'gtFine', 'train', '68']\n",
      "['', 'data', 'public', 'idd-segmentation', 'IDD_Segmentation', 'gtFine', 'train', '164']\n",
      "['', 'data', 'public', 'idd-segmentation', 'IDD_Segmentation', 'gtFine', 'train', '57']\n",
      "Done with 4000/39870 images\n",
      "['', 'data', 'public', 'idd-segmentation', 'IDD_Segmentation', 'gtFine', 'train', '20']\n",
      "['', 'data', 'public', 'idd-segmentation', 'IDD_Segmentation', 'gtFine', 'train', '163']\n",
      "['', 'data', 'public', 'idd-segmentation', 'IDD_Segmentation', 'gtFine', 'train', '151']\n",
      "Done with 5000/39870 images\n",
      "['', 'data', 'public', 'idd-segmentation', 'IDD_Segmentation', 'gtFine', 'train', '126']\n",
      "['', 'data', 'public', 'idd-segmentation', 'IDD_Segmentation', 'gtFine', 'train', '65']\n",
      "['', 'data', 'public', 'idd-segmentation', 'IDD_Segmentation', 'gtFine', 'train', '81']\n",
      "['', 'data', 'public', 'idd-segmentation', 'IDD_Segmentation', 'gtFine', 'train', '39']\n",
      "Done with 6000/39870 images\n",
      "['', 'data', 'public', 'idd-segmentation', 'IDD_Segmentation', 'gtFine', 'train', '107']\n",
      "['', 'data', 'public', 'idd-segmentation', 'IDD_Segmentation', 'gtFine', 'train', '170']\n",
      "['', 'data', 'public', 'idd-segmentation', 'IDD_Segmentation', 'gtFine', 'train', '44']\n",
      "['', 'data', 'public', 'idd-segmentation', 'IDD_Segmentation', 'gtFine', 'train', '5']\n",
      "Done with 7000/39870 images\n",
      "['', 'data', 'public', 'idd-segmentation', 'IDD_Segmentation', 'gtFine', 'train', '98']\n",
      "['', 'data', 'public', 'idd-segmentation', 'IDD_Segmentation', 'gtFine', 'train', '76']\n",
      "['', 'data', 'public', 'idd-segmentation', 'IDD_Segmentation', 'gtFine', 'train', '142']\n",
      "['', 'data', 'public', 'idd-segmentation', 'IDD_Segmentation', 'gtFine', 'train', '135']\n",
      "Done with 8000/39870 images\n",
      "['', 'data', 'public', 'idd-segmentation', 'IDD_Segmentation', 'gtFine', 'train', '146']\n",
      "['', 'data', 'public', 'idd-segmentation', 'IDD_Segmentation', 'gtFine', 'train', '131']\n",
      "['', 'data', 'public', 'idd-segmentation', 'IDD_Segmentation', 'gtFine', 'train', '72']\n",
      "['', 'data', 'public', 'idd-segmentation', 'IDD_Segmentation', 'gtFine', 'train', '78']\n",
      "['', 'data', 'public', 'idd-segmentation', 'IDD_Segmentation', 'gtFine', 'train', '96']\n",
      "Done with 9000/39870 images\n",
      "['', 'data', 'public', 'idd-segmentation', 'IDD_Segmentation', 'gtFine', 'train', '1']\n",
      "Done with 10000/39870 images\n",
      "['', 'data', 'public', 'idd-segmentation', 'IDD_Segmentation', 'gtFine', 'train', '40']\n",
      "['', 'data', 'public', 'idd-segmentation', 'IDD_Segmentation', 'gtFine', 'train', '37']\n",
      "['', 'data', 'public', 'idd-segmentation', 'IDD_Segmentation', 'gtFine', 'train', '174']\n",
      "Done with 11000/39870 images\n",
      "['', 'data', 'public', 'idd-segmentation', 'IDD_Segmentation', 'gtFine', 'train', '128']\n",
      "['', 'data', 'public', 'idd-segmentation', 'IDD_Segmentation', 'gtFine', 'train', '85']\n",
      "['', 'data', 'public', 'idd-segmentation', 'IDD_Segmentation', 'gtFine', 'train', '16']\n",
      "Done with 12000/39870 images\n",
      "['', 'data', 'public', 'idd-segmentation', 'IDD_Segmentation', 'gtFine', 'train', '155']\n",
      "['', 'data', 'public', 'idd-segmentation', 'IDD_Segmentation', 'gtFine', 'train', '122']\n",
      "['', 'data', 'public', 'idd-segmentation', 'IDD_Segmentation', 'gtFine', 'train', '59']\n",
      "Done with 13000/39870 images\n",
      "['', 'data', 'public', 'idd-segmentation', 'IDD_Segmentation', 'gtFine', 'train', '110']\n",
      "['', 'data', 'public', 'idd-segmentation', 'IDD_Segmentation', 'gtFine', 'train', '53']\n",
      "['', 'data', 'public', 'idd-segmentation', 'IDD_Segmentation', 'gtFine', 'train', '29']\n",
      "Done with 14000/39870 images\n",
      "['', 'data', 'public', 'idd-segmentation', 'IDD_Segmentation', 'gtFine', 'train', '160']\n",
      "['', 'data', 'public', 'idd-segmentation', 'IDD_Segmentation', 'gtFine', 'train', '117']\n",
      "['', 'data', 'public', 'idd-segmentation', 'IDD_Segmentation', 'gtFine', 'train', '23']\n",
      "['', 'data', 'public', 'idd-segmentation', 'IDD_Segmentation', 'gtFine', 'train', '158']\n",
      "Done with 15000/39870 images\n",
      "['', 'data', 'public', 'idd-segmentation', 'IDD_Segmentation', 'gtFine', 'train', '11']\n",
      "['', 'data', 'public', 'idd-segmentation', 'IDD_Segmentation', 'gtFine', 'train', '125']\n",
      "['', 'data', 'public', 'idd-segmentation', 'IDD_Segmentation', 'gtFine', 'train', '152']\n",
      "Done with 16000/39870 images\n",
      "['', 'data', 'public', 'idd-segmentation', 'IDD_Segmentation', 'gtFine', 'train', '30']\n",
      "['', 'data', 'public', 'idd-segmentation', 'IDD_Segmentation', 'gtFine', 'train', '173']\n",
      "['', 'data', 'public', 'idd-segmentation', 'IDD_Segmentation', 'gtFine', 'train', '104']\n",
      "['', 'data', 'public', 'idd-segmentation', 'IDD_Segmentation', 'gtFine', 'train', '136']\n",
      "Done with 17000/39870 images\n",
      "['', 'data', 'public', 'idd-segmentation', 'IDD_Segmentation', 'gtFine', 'train', '141']\n",
      "['', 'data', 'public', 'idd-segmentation', 'IDD_Segmentation', 'gtFine', 'train', '75']\n",
      "['', 'data', 'public', 'idd-segmentation', 'IDD_Segmentation', 'gtFine', 'train', '91']\n",
      "['', 'data', 'public', 'idd-segmentation', 'IDD_Segmentation', 'gtFine', 'train', '6']\n",
      "Done with 18000/39870 images\n",
      "['', 'data', 'public', 'idd-segmentation', 'IDD_Segmentation', 'gtFine', 'train', '32']\n",
      "Done with 19000/39870 images\n",
      "['', 'data', 'public', 'idd-segmentation', 'IDD_Segmentation', 'gtFine', 'train', '45']\n",
      "['', 'data', 'public', 'idd-segmentation', 'IDD_Segmentation', 'gtFine', 'train', '171']\n",
      "['', 'data', 'public', 'idd-segmentation', 'IDD_Segmentation', 'gtFine', 'train', '106']\n",
      "['', 'data', 'public', 'idd-segmentation', 'IDD_Segmentation', 'gtFine', 'train', '38']\n",
      "['', 'data', 'public', 'idd-segmentation', 'IDD_Segmentation', 'gtFine', 'train', '143']\n",
      "['', 'data', 'public', 'idd-segmentation', 'IDD_Segmentation', 'gtFine', 'train', '77']\n",
      "Done with 20000/39870 images\n",
      "['', 'data', 'public', 'idd-segmentation', 'IDD_Segmentation', 'gtFine', 'train', '93']\n",
      "['', 'data', 'public', 'idd-segmentation', 'IDD_Segmentation', 'gtFine', 'train', '168']\n",
      "Done with 21000/39870 images\n",
      "['', 'data', 'public', 'idd-segmentation', 'IDD_Segmentation', 'gtFine', 'train', '162']\n",
      "['', 'data', 'public', 'idd-segmentation', 'IDD_Segmentation', 'gtFine', 'train', '115']\n",
      "['', 'data', 'public', 'idd-segmentation', 'IDD_Segmentation', 'gtFine', 'train', '56']\n",
      "['', 'data', 'public', 'idd-segmentation', 'IDD_Segmentation', 'gtFine', 'train', '80']\n",
      "Done with 22000/39870 images\n",
      "['', 'data', 'public', 'idd-segmentation', 'IDD_Segmentation', 'gtFine', 'train', '64']\n",
      "['', 'data', 'public', 'idd-segmentation', 'IDD_Segmentation', 'gtFine', 'train', '127']\n",
      "['', 'data', 'public', 'idd-segmentation', 'IDD_Segmentation', 'gtFine', 'train', '87']\n",
      "Done with 23000/39870 images\n",
      "['', 'data', 'public', 'idd-segmentation', 'IDD_Segmentation', 'gtFine', 'train', '69']\n",
      "['', 'data', 'public', 'idd-segmentation', 'IDD_Segmentation', 'gtFine', 'train', '63']\n",
      "Done with 24000/39870 images\n",
      "['', 'data', 'public', 'idd-segmentation', 'IDD_Segmentation', 'gtFine', 'train', '157']\n",
      "Done with 25000/39870 images\n",
      "['', 'data', 'public', 'idd-segmentation', 'IDD_Segmentation', 'gtFine', 'train', '118']\n",
      "['', 'data', 'public', 'idd-segmentation', 'IDD_Segmentation', 'gtFine', 'train', '26']\n",
      "['', 'data', 'public', 'idd-segmentation', 'IDD_Segmentation', 'gtFine', 'train', '144']\n",
      "['', 'data', 'public', 'idd-segmentation', 'IDD_Segmentation', 'gtFine', 'train', '133']\n",
      "['', 'data', 'public', 'idd-segmentation', 'IDD_Segmentation', 'gtFine', 'train', '9']\n",
      "['', 'data', 'public', 'idd-segmentation', 'IDD_Segmentation', 'gtFine', 'train', '70']\n",
      "Done with 26000/39870 images\n",
      "['', 'data', 'public', 'idd-segmentation', 'IDD_Segmentation', 'gtFine', 'train', '94']\n",
      "Done with 27000/39870 images\n",
      "['', 'data', 'public', 'idd-segmentation', 'IDD_Segmentation', 'gtFine', 'train', '139']\n",
      "['', 'data', 'public', 'idd-segmentation', 'IDD_Segmentation', 'gtFine', 'train', '42']\n",
      "['', 'data', 'public', 'idd-segmentation', 'IDD_Segmentation', 'gtFine', 'train', '101']\n",
      "['', 'data', 'public', 'idd-segmentation', 'IDD_Segmentation', 'gtFine', 'train', '176']\n",
      "['', 'data', 'public', 'idd-segmentation', 'IDD_Segmentation', 'gtFine', 'train', '48']\n",
      "Done with 28000/39870 images\n",
      "['', 'data', 'public', 'idd-segmentation', 'IDD_Segmentation', 'gtFine', 'train', '178']\n",
      "['', 'data', 'public', 'idd-segmentation', 'IDD_Segmentation', 'gtFine', 'train', '46']\n",
      "Done with 29000/39870 images\n",
      "['', 'data', 'public', 'idd-segmentation', 'IDD_Segmentation', 'gtFine', 'train', '31']\n",
      "['', 'data', 'public', 'idd-segmentation', 'IDD_Segmentation', 'gtFine', 'train', '7']\n",
      "['', 'data', 'public', 'idd-segmentation', 'IDD_Segmentation', 'gtFine', 'train', '90']\n",
      "['', 'data', 'public', 'idd-segmentation', 'IDD_Segmentation', 'gtFine', 'train', '140']\n",
      "Done with 30000/39870 images\n",
      "['', 'data', 'public', 'idd-segmentation', 'IDD_Segmentation', 'gtFine', 'train', '137']\n",
      "['', 'data', 'public', 'idd-segmentation', 'IDD_Segmentation', 'gtFine', 'train', '116']\n",
      "['', 'data', 'public', 'idd-segmentation', 'IDD_Segmentation', 'gtFine', 'train', '28']\n",
      "['', 'data', 'public', 'idd-segmentation', 'IDD_Segmentation', 'gtFine', 'train', '124']\n",
      "['', 'data', 'public', 'idd-segmentation', 'IDD_Segmentation', 'gtFine', 'train', '10']\n",
      "Done with 31000/39870 images\n",
      "['', 'data', 'public', 'idd-segmentation', 'IDD_Segmentation', 'gtFine', 'train', '154']\n",
      "['', 'data', 'public', 'idd-segmentation', 'IDD_Segmentation', 'gtFine', 'train', '60']\n",
      "['', 'data', 'public', 'idd-segmentation', 'IDD_Segmentation', 'gtFine', 'train', '84']\n",
      "['', 'data', 'public', 'idd-segmentation', 'IDD_Segmentation', 'gtFine', 'train', '25']\n",
      "['', 'data', 'public', 'idd-segmentation', 'IDD_Segmentation', 'gtFine', 'train', '52']\n",
      "Done with 32000/39870 images\n",
      "['', 'data', 'public', 'idd-segmentation', 'IDD_Segmentation', 'gtFine', 'train', '166']\n",
      "['', 'data', 'public', 'idd-segmentation', 'IDD_Segmentation', 'gtFine', 'train', '0']\n",
      "['', 'data', 'public', 'idd-segmentation', 'IDD_Segmentation', 'gtFine', 'train', '79']\n",
      "['', 'data', 'public', 'idd-segmentation', 'IDD_Segmentation', 'gtFine', 'train', '130']\n",
      "Done with 33000/39870 images\n",
      "['', 'data', 'public', 'idd-segmentation', 'IDD_Segmentation', 'gtFine', 'train', '108']\n",
      "['', 'data', 'public', 'idd-segmentation', 'IDD_Segmentation', 'gtFine', 'train', '175']\n",
      "['', 'data', 'public', 'idd-segmentation', 'IDD_Segmentation', 'gtFine', 'train', '102']\n",
      "['', 'data', 'public', 'idd-segmentation', 'IDD_Segmentation', 'gtFine', 'train', '36']\n",
      "Done with 34000/39870 images\n",
      "['', 'data', 'public', 'idd-segmentation', 'IDD_Segmentation', 'gtFine', 'train', '41']\n",
      "['', 'data', 'public', 'idd-segmentation', 'IDD_Segmentation', 'gtFine', 'val']\n",
      "['', 'data', 'public', 'idd-segmentation', 'IDD_Segmentation', 'gtFine', 'val', '148']\n",
      "Done with 35000/39870 images\n",
      "['', 'data', 'public', 'idd-segmentation', 'IDD_Segmentation', 'gtFine', 'val', '62']\n",
      "['', 'data', 'public', 'idd-segmentation', 'IDD_Segmentation', 'gtFine', 'val', '119']\n",
      "['', 'data', 'public', 'idd-segmentation', 'IDD_Segmentation', 'gtFine', 'val', '18']\n",
      "['', 'data', 'public', 'idd-segmentation', 'IDD_Segmentation', 'gtFine', 'val', '132']\n",
      "Done with 36000/39870 images\n",
      "['', 'data', 'public', 'idd-segmentation', 'IDD_Segmentation', 'gtFine', 'val', '24']\n",
      "['', 'data', 'public', 'idd-segmentation', 'IDD_Segmentation', 'gtFine', 'val', '167']\n",
      "['', 'data', 'public', 'idd-segmentation', 'IDD_Segmentation', 'gtFine', 'val', '88']\n",
      "['', 'data', 'public', 'idd-segmentation', 'IDD_Segmentation', 'gtFine', 'val', '66']\n",
      "['', 'data', 'public', 'idd-segmentation', 'IDD_Segmentation', 'gtFine', 'val', '47']\n",
      "['', 'data', 'public', 'idd-segmentation', 'IDD_Segmentation', 'gtFine', 'val', '3']\n",
      "Done with 37000/39870 images\n",
      "['', 'data', 'public', 'idd-segmentation', 'IDD_Segmentation', 'gtFine', 'val', '181']\n",
      "['', 'data', 'public', 'idd-segmentation', 'IDD_Segmentation', 'gtFine', 'val', '21']\n",
      "['', 'data', 'public', 'idd-segmentation', 'IDD_Segmentation', 'gtFine', 'val', '150']\n",
      "['', 'data', 'public', 'idd-segmentation', 'IDD_Segmentation', 'gtFine', 'val', '51']\n",
      "Done with 38000/39870 images\n",
      "['', 'data', 'public', 'idd-segmentation', 'IDD_Segmentation', 'gtFine', 'val', '149']\n",
      "['', 'data', 'public', 'idd-segmentation', 'IDD_Segmentation', 'gtFine', 'val', '147']\n",
      "['', 'data', 'public', 'idd-segmentation', 'IDD_Segmentation', 'gtFine', 'val', '89']\n",
      "['', 'data', 'public', 'idd-segmentation', 'IDD_Segmentation', 'gtFine', 'val', '67']\n",
      "Done with 39000/39870 images\n",
      "['', 'data', 'public', 'idd-segmentation', 'IDD_Segmentation', 'gtFine', 'val', '153']\n",
      "['', 'data', 'public', 'idd-segmentation', 'IDD_Segmentation', 'gtFine', 'val', '17']\n",
      "['', 'data', 'public', 'idd-segmentation', 'IDD_Segmentation', 'gtFine', 'val', '172']\n",
      "All files has been processed\n"
     ]
    }
   ],
   "source": [
    "### Actual call to the main algorithm\n",
    "dataset_path =\"/data/public/idd-segmentation/IDD_Segmentation/gtFine\"\n",
    "process_img_2(dataset_path,\"/no_backups/g013/data/IDD/preprocessed/v4/\")"
   ]
  },
  {
   "cell_type": "code",
   "execution_count": 28,
   "metadata": {},
   "outputs": [
    {
     "data": {
      "text/plain": [
       "[]"
      ]
     },
     "execution_count": 28,
     "metadata": {},
     "output_type": "execute_result"
    }
   ],
   "source": [
    "path=\"/data/public/idd-segmentation/IDD_Segmentation/leftImg8bit\"\n",
    "glob(f\"{path}/(?!test)/**/*.png\", recursive=True)"
   ]
  },
  {
   "cell_type": "markdown",
   "metadata": {},
   "source": [
    "### Comparing between normal labels and level 3"
   ]
  },
  {
   "cell_type": "code",
   "execution_count": 6,
   "metadata": {},
   "outputs": [
    {
     "name": "stderr",
     "output_type": "stream",
     "text": [
      "/tmp/ipykernel_1470536/3137432858.py:5: DeprecationWarning: Starting with ImageIO v3 the behavior of this function will switch to that of iio.v3.imread. To keep the current behavior (and make this warning disappear) use `import imageio.v2 as imageio` or call `imageio.v2.imread` directly.\n",
      "  image_label1 = imread(filepath)\n",
      "/tmp/ipykernel_1470536/3137432858.py:6: DeprecationWarning: Starting with ImageIO v3 the behavior of this function will switch to that of iio.v3.imread. To keep the current behavior (and make this warning disappear) use `import imageio.v2 as imageio` or call `imageio.v2.imread` directly.\n",
      "  image_label2= imread(filepath_2)\n",
      "/tmp/ipykernel_1470536/3137432858.py:7: DeprecationWarning: Starting with ImageIO v3 the behavior of this function will switch to that of iio.v3.imread. To keep the current behavior (and make this warning disappear) use `import imageio.v2 as imageio` or call `imageio.v2.imread` directly.\n",
      "  image_label3=imread(filepath_3)\n",
      "/tmp/ipykernel_1470536/3137432858.py:8: DeprecationWarning: Starting with ImageIO v3 the behavior of this function will switch to that of iio.v3.imread. To keep the current behavior (and make this warning disappear) use `import imageio.v2 as imageio` or call `imageio.v2.imread` directly.\n",
      "  image_label4=imread(filepath_4)\n"
     ]
    }
   ],
   "source": [
    "filepath=\"/data/public/idd-segmentation/IDD_Segmentation/gtFine/train/2/258497_gtFine_labelids.png\"\n",
    "filepath_2 = \"/data/public/idd-segmentation/IDD_Segmentation/gtFine/train/2/258497_gtFine_labellevel3Ids.png\"\n",
    "filepath_3 = \"/no_backups/g013/data/IDD/preprocessed/v4/gtFine_preprocessed/train/2/116356_gtFine_labelids.png\"\n",
    "filepath_4 = \"/no_backups/g013/data/IDD/preprocessed/v4/gtFine_preprocessed/train/10/270068_gtFine_labelids.png\"\n",
    "image_label1 = imread(filepath)\n",
    "image_label2= imread(filepath_2)\n",
    "image_label3=imread(filepath_3)\n",
    "image_label4=imread(filepath_4)"
   ]
  },
  {
   "cell_type": "code",
   "execution_count": 25,
   "metadata": {},
   "outputs": [
    {
     "data": {
      "text/plain": [
       "{0, 2, 3, 6, 21, 23, 24, 26, 28, 29, 33, 34}"
      ]
     },
     "execution_count": 25,
     "metadata": {},
     "output_type": "execute_result"
    }
   ],
   "source": [
    "set(image_label1.flatten())"
   ]
  },
  {
   "cell_type": "code",
   "execution_count": 8,
   "metadata": {},
   "outputs": [
    {
     "data": {
      "text/plain": [
       "{0, 1, 2, 3, 6, 7, 11, 12, 14, 16, 17, 19, 20}"
      ]
     },
     "execution_count": 8,
     "metadata": {},
     "output_type": "execute_result"
    }
   ],
   "source": [
    "set(image_label3.flatten())"
   ]
  },
  {
   "cell_type": "code",
   "execution_count": 9,
   "metadata": {},
   "outputs": [
    {
     "data": {
      "text/plain": [
       "{0, 1, 3, 7, 10, 14, 16, 17, 20}"
      ]
     },
     "execution_count": 9,
     "metadata": {},
     "output_type": "execute_result"
    }
   ],
   "source": [
    "set(image_label4.flatten())"
   ]
  },
  {
   "cell_type": "code",
   "execution_count": 4,
   "metadata": {},
   "outputs": [
    {
     "name": "stderr",
     "output_type": "stream",
     "text": [
      "/tmp/ipykernel_1136100/2598776723.py:3: DeprecationWarning: Starting with ImageIO v3 the behavior of this function will switch to that of iio.v3.imread. To keep the current behavior (and make this warning disappear) use `import imageio.v2 as imageio` or call `imageio.v2.imread` directly.\n",
      "  image = imread(filepath)\n"
     ]
    }
   ],
   "source": [
    "### Quick Sections for Labelv3\n",
    "filepath=\"/usrhomes/g013/SemanticStyleGAN/notebooks/data_level3_v2/output/gtFine_preprocessed/train/0/022141_gtFine_labellevel3Ids.png\"\n",
    "image = imread(filepath)"
   ]
  },
  {
   "cell_type": "markdown",
   "metadata": {},
   "source": [
    "### Computing Summation for color map"
   ]
  },
  {
   "cell_type": "code",
   "execution_count": 16,
   "metadata": {},
   "outputs": [],
   "source": [
    "color_map = {\n",
    "    0: [0, 0, 0],  # Void\n",
    "    1: [128, 64, 128],  # Drivable\n",
    "    2: [244, 35, 232],  # Non-drivable\n",
    "    3: [220, 20, 60],  # Person rider\n",
    "    4: [255, 127, 80],  # animal\n",
    "    5: [255, 215, 0],  # Rickshaw\n",
    "    6: [0, 0, 142],  # Car\n",
    "    7: [0, 0, 230],  # Motorcycle/bic\n",
    "    8:[0, 0, 139],  # truck\n",
    "    9: [0, 0, 200],  # bus\n",
    "    10:  [0, 60, 100],  # other v \n",
    "    11: [202,202,156],  # curb\n",
    "    12: [102, 102, 156],  # wall\n",
    "    13: [190, 153, 153], #fence\n",
    "    14:[220, 220, 0],#traffics\n",
    "    15:[250, 170, 30], #trafficl\n",
    "    16:[153, 153, 153],#polegroup\n",
    "    17:[70, 70, 70],#building\n",
    "    18:[101, 101, 101],#bridge/tunnel\n",
    "    19:[107, 142, 35],#vegit\n",
    "    20: [70, 130, 180],#sky/fallbackb\n",
    "}"
   ]
  },
  {
   "cell_type": "code",
   "execution_count": 18,
   "metadata": {},
   "outputs": [],
   "source": [
    "sum_list = []\n",
    "for c in color_map:\n",
    "    color_sum= sum(color_map[c])\n",
    "    if color_sum in sum_list:\n",
    "     print(f\"color: {color_map[c]} with it's sum {color_sum} exists in list already \")\n",
    "    sum_list.append(color_sum)\n"
   ]
  },
  {
   "cell_type": "code",
   "execution_count": null,
   "metadata": {},
   "outputs": [],
   "source": []
  }
 ],
 "metadata": {
  "kernelspec": {
   "display_name": "Python 3.9.12 ('myenv')",
   "language": "python",
   "name": "python3"
  },
  "language_info": {
   "codemirror_mode": {
    "name": "ipython",
    "version": 3
   },
   "file_extension": ".py",
   "mimetype": "text/x-python",
   "name": "python",
   "nbconvert_exporter": "python",
   "pygments_lexer": "ipython3",
   "version": "3.9.12"
  },
  "orig_nbformat": 4,
  "vscode": {
   "interpreter": {
    "hash": "c8daaeadef7a295f68d0e95189507333c5c96e909e217a26b6b4a4818e648299"
   }
  }
 },
 "nbformat": 4,
 "nbformat_minor": 2
}
